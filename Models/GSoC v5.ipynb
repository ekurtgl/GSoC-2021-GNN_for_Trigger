{
 "cells": [
  {
   "cell_type": "code",
   "execution_count": 5,
   "metadata": {},
   "outputs": [
    {
     "name": "stdout",
     "output_type": "stream",
     "text": [
      "Num GPUs available: 1\n",
      "TF version: 2.3.0\n"
     ]
    }
   ],
   "source": [
    "import numpy as np # linear algebra\n",
    "import pandas as pd # data processing, CSV file I/O (e.g. pd.read_csv)\n",
    "import numpy.matlib\n",
    "import tensorflow as tf\n",
    "from sklearn.preprocessing import StandardScaler\n",
    "from sklearn.model_selection import train_test_split\n",
    "import matplotlib.pyplot as plt\n",
    "from tensorflow.keras.layers import *\n",
    "from tensorflow.keras.optimizers import *\n",
    "from tensorflow import keras\n",
    "from collections import Counter\n",
    "import tensorflow.keras.backend as K\n",
    "from livelossplot import PlotLossesKerasTF\n",
    "from tensorflow.keras.callbacks import ModelCheckpoint, EarlyStopping, ReduceLROnPlateau\n",
    "from sklearn.metrics import f1_score, accuracy_score, roc_curve, auc\n",
    "from sklearn.metrics import mean_absolute_error as mae\n",
    "# import torch\n",
    "# import torch.nn.functional as F\n",
    "# import torch_geometric.nn as gnn\n",
    "# from torch_geometric.utils import softmax\n",
    "# from torch_geometric.nn import MessagePassing\n",
    "from tqdm import tqdm\n",
    "import os, scipy\n",
    "os.environ['TF_FORCE_GPU_ALLOW_GROWTH_TRUE'] = 'true'\n",
    "tf.config.set_soft_device_placement(True)\n",
    "os.environ['CUDA_DEVICE_ORDER'] = 'PCI_BUS_ID'\n",
    "os.environ['CUDA_VISIBLE_DEVICES'] = '2'\n",
    "print('Num GPUs available: '+ str(len(tf.config.experimental.list_physical_devices('GPU'))))\n",
    "print('TF version: '+str(tf.__version__))\n",
    "# print('Torch version: '+str(torch.__version__))"
   ]
  },
  {
   "cell_type": "code",
   "execution_count": 6,
   "metadata": {
    "scrolled": false
   },
   "outputs": [
    {
     "data": {
      "text/html": [
       "<div>\n",
       "<style scoped>\n",
       "    .dataframe tbody tr th:only-of-type {\n",
       "        vertical-align: middle;\n",
       "    }\n",
       "\n",
       "    .dataframe tbody tr th {\n",
       "        vertical-align: top;\n",
       "    }\n",
       "\n",
       "    .dataframe thead th {\n",
       "        text-align: right;\n",
       "    }\n",
       "</style>\n",
       "<table border=\"1\" class=\"dataframe\">\n",
       "  <thead>\n",
       "    <tr style=\"text-align: right;\">\n",
       "      <th></th>\n",
       "      <th>Unnamed: 0</th>\n",
       "      <th>Phi_0</th>\n",
       "      <th>Phi_2</th>\n",
       "      <th>Phi_3</th>\n",
       "      <th>Phi_4</th>\n",
       "      <th>Theta_0</th>\n",
       "      <th>Theta_2</th>\n",
       "      <th>Theta_3</th>\n",
       "      <th>Theta_4</th>\n",
       "      <th>BendingAngle_0</th>\n",
       "      <th>...</th>\n",
       "      <th>Mask_0</th>\n",
       "      <th>Mask_2</th>\n",
       "      <th>Mask_3</th>\n",
       "      <th>Mask_4</th>\n",
       "      <th>PatternStraightness</th>\n",
       "      <th>Zone</th>\n",
       "      <th>MedianTheta</th>\n",
       "      <th>q/pt</th>\n",
       "      <th>PhiAngle</th>\n",
       "      <th>EtaAngle</th>\n",
       "    </tr>\n",
       "  </thead>\n",
       "  <tbody>\n",
       "    <tr>\n",
       "      <th>0</th>\n",
       "      <td>0</td>\n",
       "      <td>58.066666</td>\n",
       "      <td>55.466667</td>\n",
       "      <td>55.466667</td>\n",
       "      <td>56.000000</td>\n",
       "      <td>11.970</td>\n",
       "      <td>11.684999</td>\n",
       "      <td>11.400</td>\n",
       "      <td>11.400</td>\n",
       "      <td>-13.000000</td>\n",
       "      <td>...</td>\n",
       "      <td>0.0</td>\n",
       "      <td>0.0</td>\n",
       "      <td>0.0</td>\n",
       "      <td>0.0</td>\n",
       "      <td>5.0</td>\n",
       "      <td>3.0</td>\n",
       "      <td>105.0</td>\n",
       "      <td>0.181209</td>\n",
       "      <td>-3.075936</td>\n",
       "      <td>1.722345</td>\n",
       "    </tr>\n",
       "    <tr>\n",
       "      <th>1</th>\n",
       "      <td>1</td>\n",
       "      <td>64.583336</td>\n",
       "      <td>66.800000</td>\n",
       "      <td>67.066666</td>\n",
       "      <td>67.200000</td>\n",
       "      <td>6.555</td>\n",
       "      <td>6.840000</td>\n",
       "      <td>6.555</td>\n",
       "      <td>6.840</td>\n",
       "      <td>7.000000</td>\n",
       "      <td>...</td>\n",
       "      <td>0.0</td>\n",
       "      <td>0.0</td>\n",
       "      <td>0.0</td>\n",
       "      <td>0.0</td>\n",
       "      <td>3.0</td>\n",
       "      <td>1.0</td>\n",
       "      <td>124.0</td>\n",
       "      <td>-0.146131</td>\n",
       "      <td>-0.167139</td>\n",
       "      <td>2.012122</td>\n",
       "    </tr>\n",
       "    <tr>\n",
       "      <th>2</th>\n",
       "      <td>2</td>\n",
       "      <td>71.150000</td>\n",
       "      <td>67.033330</td>\n",
       "      <td>66.266670</td>\n",
       "      <td>65.466670</td>\n",
       "      <td>2.850</td>\n",
       "      <td>2.565000</td>\n",
       "      <td>2.280</td>\n",
       "      <td>2.280</td>\n",
       "      <td>-16.613783</td>\n",
       "      <td>...</td>\n",
       "      <td>0.0</td>\n",
       "      <td>0.0</td>\n",
       "      <td>0.0</td>\n",
       "      <td>0.0</td>\n",
       "      <td>7.0</td>\n",
       "      <td>0.0</td>\n",
       "      <td>127.0</td>\n",
       "      <td>0.367024</td>\n",
       "      <td>2.431823</td>\n",
       "      <td>2.321646</td>\n",
       "    </tr>\n",
       "    <tr>\n",
       "      <th>3</th>\n",
       "      <td>3</td>\n",
       "      <td>34.933334</td>\n",
       "      <td>31.200000</td>\n",
       "      <td>31.200000</td>\n",
       "      <td>31.833334</td>\n",
       "      <td>9.690</td>\n",
       "      <td>8.835000</td>\n",
       "      <td>8.835</td>\n",
       "      <td>9.120</td>\n",
       "      <td>-13.000000</td>\n",
       "      <td>...</td>\n",
       "      <td>0.0</td>\n",
       "      <td>0.0</td>\n",
       "      <td>0.0</td>\n",
       "      <td>0.0</td>\n",
       "      <td>6.0</td>\n",
       "      <td>2.0</td>\n",
       "      <td>60.0</td>\n",
       "      <td>0.267774</td>\n",
       "      <td>-1.343305</td>\n",
       "      <td>1.854506</td>\n",
       "    </tr>\n",
       "    <tr>\n",
       "      <th>4</th>\n",
       "      <td>4</td>\n",
       "      <td>68.150000</td>\n",
       "      <td>68.266670</td>\n",
       "      <td>68.300000</td>\n",
       "      <td>68.400000</td>\n",
       "      <td>2.565</td>\n",
       "      <td>2.565000</td>\n",
       "      <td>2.565</td>\n",
       "      <td>2.565</td>\n",
       "      <td>0.000000</td>\n",
       "      <td>...</td>\n",
       "      <td>0.0</td>\n",
       "      <td>0.0</td>\n",
       "      <td>0.0</td>\n",
       "      <td>0.0</td>\n",
       "      <td>4.0</td>\n",
       "      <td>0.0</td>\n",
       "      <td>128.0</td>\n",
       "      <td>-0.019179</td>\n",
       "      <td>-3.134433</td>\n",
       "      <td>2.333772</td>\n",
       "    </tr>\n",
       "    <tr>\n",
       "      <th>...</th>\n",
       "      <td>...</td>\n",
       "      <td>...</td>\n",
       "      <td>...</td>\n",
       "      <td>...</td>\n",
       "      <td>...</td>\n",
       "      <td>...</td>\n",
       "      <td>...</td>\n",
       "      <td>...</td>\n",
       "      <td>...</td>\n",
       "      <td>...</td>\n",
       "      <td>...</td>\n",
       "      <td>...</td>\n",
       "      <td>...</td>\n",
       "      <td>...</td>\n",
       "      <td>...</td>\n",
       "      <td>...</td>\n",
       "      <td>...</td>\n",
       "      <td>...</td>\n",
       "      <td>...</td>\n",
       "      <td>...</td>\n",
       "      <td>...</td>\n",
       "    </tr>\n",
       "    <tr>\n",
       "      <th>1179351</th>\n",
       "      <td>1179351</td>\n",
       "      <td>30.450000</td>\n",
       "      <td>29.066668</td>\n",
       "      <td>28.933332</td>\n",
       "      <td>28.933332</td>\n",
       "      <td>9.405</td>\n",
       "      <td>9.120000</td>\n",
       "      <td>9.120</td>\n",
       "      <td>9.120</td>\n",
       "      <td>0.000000</td>\n",
       "      <td>...</td>\n",
       "      <td>0.0</td>\n",
       "      <td>0.0</td>\n",
       "      <td>0.0</td>\n",
       "      <td>0.0</td>\n",
       "      <td>5.0</td>\n",
       "      <td>2.0</td>\n",
       "      <td>55.0</td>\n",
       "      <td>0.118520</td>\n",
       "      <td>0.522333</td>\n",
       "      <td>-1.833125</td>\n",
       "    </tr>\n",
       "    <tr>\n",
       "      <th>1179352</th>\n",
       "      <td>1179352</td>\n",
       "      <td>39.400000</td>\n",
       "      <td>40.133335</td>\n",
       "      <td>40.266666</td>\n",
       "      <td>40.400000</td>\n",
       "      <td>3.705</td>\n",
       "      <td>3.420000</td>\n",
       "      <td>3.420</td>\n",
       "      <td>3.420</td>\n",
       "      <td>-0.000000</td>\n",
       "      <td>...</td>\n",
       "      <td>0.0</td>\n",
       "      <td>0.0</td>\n",
       "      <td>0.0</td>\n",
       "      <td>0.0</td>\n",
       "      <td>4.0</td>\n",
       "      <td>0.0</td>\n",
       "      <td>75.0</td>\n",
       "      <td>-0.084559</td>\n",
       "      <td>-1.585937</td>\n",
       "      <td>-2.262504</td>\n",
       "    </tr>\n",
       "    <tr>\n",
       "      <th>1179353</th>\n",
       "      <td>1179353</td>\n",
       "      <td>65.533330</td>\n",
       "      <td>63.433334</td>\n",
       "      <td>62.933334</td>\n",
       "      <td>63.066666</td>\n",
       "      <td>7.125</td>\n",
       "      <td>6.555000</td>\n",
       "      <td>6.555</td>\n",
       "      <td>6.555</td>\n",
       "      <td>-9.000000</td>\n",
       "      <td>...</td>\n",
       "      <td>0.0</td>\n",
       "      <td>0.0</td>\n",
       "      <td>0.0</td>\n",
       "      <td>0.0</td>\n",
       "      <td>5.0</td>\n",
       "      <td>1.0</td>\n",
       "      <td>120.0</td>\n",
       "      <td>0.173085</td>\n",
       "      <td>1.175915</td>\n",
       "      <td>-1.988467</td>\n",
       "    </tr>\n",
       "    <tr>\n",
       "      <th>1179354</th>\n",
       "      <td>1179354</td>\n",
       "      <td>41.283333</td>\n",
       "      <td>40.533333</td>\n",
       "      <td>40.366665</td>\n",
       "      <td>40.400000</td>\n",
       "      <td>3.990</td>\n",
       "      <td>3.705000</td>\n",
       "      <td>3.705</td>\n",
       "      <td>3.705</td>\n",
       "      <td>-5.537928</td>\n",
       "      <td>...</td>\n",
       "      <td>0.0</td>\n",
       "      <td>0.0</td>\n",
       "      <td>0.0</td>\n",
       "      <td>0.0</td>\n",
       "      <td>4.0</td>\n",
       "      <td>0.0</td>\n",
       "      <td>77.0</td>\n",
       "      <td>0.085662</td>\n",
       "      <td>2.748315</td>\n",
       "      <td>-2.236174</td>\n",
       "    </tr>\n",
       "    <tr>\n",
       "      <th>1179355</th>\n",
       "      <td>1179355</td>\n",
       "      <td>72.133330</td>\n",
       "      <td>70.533330</td>\n",
       "      <td>70.000000</td>\n",
       "      <td>69.600000</td>\n",
       "      <td>2.850</td>\n",
       "      <td>2.565000</td>\n",
       "      <td>2.565</td>\n",
       "      <td>2.565</td>\n",
       "      <td>-9.229879</td>\n",
       "      <td>...</td>\n",
       "      <td>0.0</td>\n",
       "      <td>0.0</td>\n",
       "      <td>0.0</td>\n",
       "      <td>0.0</td>\n",
       "      <td>5.0</td>\n",
       "      <td>0.0</td>\n",
       "      <td>133.0</td>\n",
       "      <td>0.189065</td>\n",
       "      <td>-1.878648</td>\n",
       "      <td>-2.330181</td>\n",
       "    </tr>\n",
       "  </tbody>\n",
       "</table>\n",
       "<p>1179356 rows × 35 columns</p>\n",
       "</div>"
      ],
      "text/plain": [
       "         Unnamed: 0      Phi_0      Phi_2      Phi_3      Phi_4  Theta_0  \\\n",
       "0                 0  58.066666  55.466667  55.466667  56.000000   11.970   \n",
       "1                 1  64.583336  66.800000  67.066666  67.200000    6.555   \n",
       "2                 2  71.150000  67.033330  66.266670  65.466670    2.850   \n",
       "3                 3  34.933334  31.200000  31.200000  31.833334    9.690   \n",
       "4                 4  68.150000  68.266670  68.300000  68.400000    2.565   \n",
       "...             ...        ...        ...        ...        ...      ...   \n",
       "1179351     1179351  30.450000  29.066668  28.933332  28.933332    9.405   \n",
       "1179352     1179352  39.400000  40.133335  40.266666  40.400000    3.705   \n",
       "1179353     1179353  65.533330  63.433334  62.933334  63.066666    7.125   \n",
       "1179354     1179354  41.283333  40.533333  40.366665  40.400000    3.990   \n",
       "1179355     1179355  72.133330  70.533330  70.000000  69.600000    2.850   \n",
       "\n",
       "           Theta_2  Theta_3  Theta_4  BendingAngle_0  ...  Mask_0  Mask_2  \\\n",
       "0        11.684999   11.400   11.400      -13.000000  ...     0.0     0.0   \n",
       "1         6.840000    6.555    6.840        7.000000  ...     0.0     0.0   \n",
       "2         2.565000    2.280    2.280      -16.613783  ...     0.0     0.0   \n",
       "3         8.835000    8.835    9.120      -13.000000  ...     0.0     0.0   \n",
       "4         2.565000    2.565    2.565        0.000000  ...     0.0     0.0   \n",
       "...            ...      ...      ...             ...  ...     ...     ...   \n",
       "1179351   9.120000    9.120    9.120        0.000000  ...     0.0     0.0   \n",
       "1179352   3.420000    3.420    3.420       -0.000000  ...     0.0     0.0   \n",
       "1179353   6.555000    6.555    6.555       -9.000000  ...     0.0     0.0   \n",
       "1179354   3.705000    3.705    3.705       -5.537928  ...     0.0     0.0   \n",
       "1179355   2.565000    2.565    2.565       -9.229879  ...     0.0     0.0   \n",
       "\n",
       "         Mask_3  Mask_4  PatternStraightness  Zone  MedianTheta      q/pt  \\\n",
       "0           0.0     0.0                  5.0   3.0        105.0  0.181209   \n",
       "1           0.0     0.0                  3.0   1.0        124.0 -0.146131   \n",
       "2           0.0     0.0                  7.0   0.0        127.0  0.367024   \n",
       "3           0.0     0.0                  6.0   2.0         60.0  0.267774   \n",
       "4           0.0     0.0                  4.0   0.0        128.0 -0.019179   \n",
       "...         ...     ...                  ...   ...          ...       ...   \n",
       "1179351     0.0     0.0                  5.0   2.0         55.0  0.118520   \n",
       "1179352     0.0     0.0                  4.0   0.0         75.0 -0.084559   \n",
       "1179353     0.0     0.0                  5.0   1.0        120.0  0.173085   \n",
       "1179354     0.0     0.0                  4.0   0.0         77.0  0.085662   \n",
       "1179355     0.0     0.0                  5.0   0.0        133.0  0.189065   \n",
       "\n",
       "         PhiAngle  EtaAngle  \n",
       "0       -3.075936  1.722345  \n",
       "1       -0.167139  2.012122  \n",
       "2        2.431823  2.321646  \n",
       "3       -1.343305  1.854506  \n",
       "4       -3.134433  2.333772  \n",
       "...           ...       ...  \n",
       "1179351  0.522333 -1.833125  \n",
       "1179352 -1.585937 -2.262504  \n",
       "1179353  1.175915 -1.988467  \n",
       "1179354  2.748315 -2.236174  \n",
       "1179355 -1.878648 -2.330181  \n",
       "\n",
       "[1179356 rows x 35 columns]"
      ]
     },
     "execution_count": 6,
     "metadata": {},
     "output_type": "execute_result"
    }
   ],
   "source": [
    "df = pd.read_csv('input/CMS_trigger.csv')\n",
    "df"
   ]
  },
  {
   "cell_type": "code",
   "execution_count": 7,
   "metadata": {},
   "outputs": [
    {
     "name": "stdout",
     "output_type": "stream",
     "text": [
      "Variables: (1179356, 31)\n",
      "Parameters: (1179356, 3)\n",
      "q/pt: (1179356,)\n",
      "PeV: (1179356,)\n"
     ]
    }
   ],
   "source": [
    "# Split\n",
    "variables = np.array(df.loc[:,'Phi_0':'MedianTheta']) # np.array(df.iloc[:,0]).shape\n",
    "parameters = np.array(df.loc[:,'q/pt':])\n",
    "q_pt = parameters[:,0]\n",
    "pT = abs(1/q_pt) # GeV\n",
    "print('Variables: '+str(variables.shape))\n",
    "print('Parameters: '+str(parameters.shape))\n",
    "print('q/pt: '+str(q_pt.shape))\n",
    "print('PeV: '+str(pT.shape))"
   ]
  },
  {
   "cell_type": "code",
   "execution_count": 8,
   "metadata": {},
   "outputs": [],
   "source": [
    "# class_labels = []\n",
    "# for y in tqdm(pT):\n",
    "#     if y <= 10:\n",
    "#         class_labels.append(0)\n",
    "#     elif y > 10 and y <= 30:\n",
    "#         class_labels.append(1)\n",
    "#     elif y > 30 and y <= 100:\n",
    "#         class_labels.append(2)\n",
    "#     elif y > 100:\n",
    "#         class_labels.append(3)\n",
    "# class_labels = np.array(class_labels) \n",
    "# print(Counter(class_labels))"
   ]
  },
  {
   "cell_type": "code",
   "execution_count": 9,
   "metadata": {},
   "outputs": [],
   "source": [
    "scaler = StandardScaler()\n",
    "data = scaler.fit_transform(variables)"
   ]
  },
  {
   "cell_type": "code",
   "execution_count": 10,
   "metadata": {},
   "outputs": [
    {
     "name": "stdout",
     "output_type": "stream",
     "text": [
      "(943484, 31)\n",
      "(235872, 31)\n"
     ]
    }
   ],
   "source": [
    "# x_train, x_test, y_train, y_test = train_test_split(data, keras.utils.to_categorical(class_labels), test_size = 0.2, random_state = 1)\n",
    "x_train, x_test = train_test_split(data, test_size = 0.2, random_state = 1)\n",
    "\n",
    "print(x_train.shape)\n",
    "print(x_test.shape)\n",
    "# print(y_train.shape)\n",
    "# print(y_test.shape)"
   ]
  },
  {
   "cell_type": "code",
   "execution_count": 11,
   "metadata": {},
   "outputs": [
    {
     "data": {
      "text/plain": [
       "(1179356, 4)"
      ]
     },
     "execution_count": 11,
     "metadata": {},
     "output_type": "execute_result"
    }
   ],
   "source": [
    "front_rear = np.array(df.loc[:,'Front_0':'Front_4'])\n",
    "front_rear.shape"
   ]
  },
  {
   "cell_type": "code",
   "execution_count": 12,
   "metadata": {},
   "outputs": [
    {
     "name": "stderr",
     "output_type": "stream",
     "text": [
      "100%|██████████| 1179356/1179356 [04:37<00:00, 4255.98it/s]"
     ]
    },
    {
     "name": "stdout",
     "output_type": "stream",
     "text": [
      "(1179356, 85, 15, 8)\n"
     ]
    },
    {
     "name": "stderr",
     "output_type": "stream",
     "text": [
      "\n"
     ]
    }
   ],
   "source": [
    "# images\n",
    "data_2d = np.zeros((len(data),85,15,8))\n",
    "xlist = ['Phi_0','Phi_2','Phi_3','Phi_4']\n",
    "ylist = ['Theta_0','Theta_2','Theta_3','Theta_4']\n",
    "\n",
    "for i in tqdm(range(len(data_2d)),position=0):\n",
    "    for j in range(front_rear.shape[-1]):\n",
    "        if front_rear[i,j] == 1:\n",
    "            data_2d[i,int(df[xlist[j]][i])-1,int(df[ylist[j]][i])-1,2*j+1] = 1\n",
    "        else:\n",
    "            data_2d[i,int(df[xlist[j]][i])-1,int(df[ylist[j]][i])-1,2*j] = 1\n",
    "print(data_2d.shape)"
   ]
  },
  {
   "cell_type": "code",
   "execution_count": 13,
   "metadata": {},
   "outputs": [
    {
     "name": "stderr",
     "output_type": "stream",
     "text": [
      "100%|██████████| 1179356/1179356 [02:01<00:00, 9712.48it/s]"
     ]
    },
    {
     "name": "stdout",
     "output_type": "stream",
     "text": [
      "(1179356, 85, 60, 2)\n"
     ]
    },
    {
     "name": "stderr",
     "output_type": "stream",
     "text": [
      "\n"
     ]
    }
   ],
   "source": [
    "distances = [250,100,100]\n",
    "data_2d2 = np.zeros((data_2d.shape[0],data_2d.shape[1],4*data_2d.shape[2],2))\n",
    "for i in tqdm(range(len(data_2d))):\n",
    "    data_2d2[i,:,:,:] = np.concatenate([data_2d[i,:,:,:2],\n",
    "                                        data_2d[i,:,:,2:4],\n",
    "                                        data_2d[i,:,:,4:6],\n",
    "                                        data_2d[i,:,:,6:]],1)\n",
    "print(data_2d2.shape)"
   ]
  },
  {
   "cell_type": "code",
   "execution_count": 14,
   "metadata": {},
   "outputs": [
    {
     "data": {
      "text/plain": [
       "<Figure size 300x300 with 0 Axes>"
      ]
     },
     "metadata": {},
     "output_type": "display_data"
    },
    {
     "data": {
      "image/png": "[encoded data removed]",
      "text/plain": [
       "<Figure size 1332x756 with 10 Axes>"
      ]
     },
     "metadata": {
      "needs_background": "light"
     },
     "output_type": "display_data"
    }
   ],
   "source": [
    "# visualize\n",
    "plt.figure(figsize=(3, 3), dpi=100)\n",
    "fig, axs = plt.subplots(2, 5)\n",
    "cnt = 1\n",
    "for i in range(2):\n",
    "    for j in range(5):\n",
    "        axs[i,j].imshow(np.sum(data_2d2[cnt*100000+500],-1))\n",
    "        cnt += 1\n",
    "fig = plt.gcf()\n",
    "fig.set_size_inches(18.5, 10.5)  # 9.25, 5.25\n",
    "plt.savefig('merged_images',dpi=150)"
   ]
  },
  {
   "cell_type": "code",
   "execution_count": 15,
   "metadata": {},
   "outputs": [
    {
     "name": "stderr",
     "output_type": "stream",
     "text": [
      "100%|██████████| 1179356/1179356 [03:01<00:00, 6489.87it/s]"
     ]
    },
    {
     "name": "stdout",
     "output_type": "stream",
     "text": [
      "1179356\n"
     ]
    },
    {
     "name": "stderr",
     "output_type": "stream",
     "text": [
      "\n"
     ]
    }
   ],
   "source": [
    "nnzrs = [np.transpose(np.nonzero(np.sum(d,-1))) for d in tqdm(data_2d2,position=0)]\n",
    "print(len(nnzrs))"
   ]
  },
  {
   "cell_type": "code",
   "execution_count": 16,
   "metadata": {},
   "outputs": [
    {
     "name": "stdout",
     "output_type": "stream",
     "text": [
      "[[54 25]\n",
      " [54 40]\n",
      " [55 55]\n",
      " [57 10]]\n"
     ]
    },
    {
     "data": {
      "text/plain": [
       "<Figure size 800x600 with 0 Axes>"
      ]
     },
     "execution_count": 16,
     "metadata": {},
     "output_type": "execute_result"
    },
    {
     "data": {
      "image/png": "[encoded data removed]",
      "text/plain": [
       "<Figure size 432x288 with 1 Axes>"
      ]
     },
     "metadata": {
      "needs_background": "light"
     },
     "output_type": "display_data"
    },
    {
     "data": {
      "text/plain": [
       "<Figure size 800x600 with 0 Axes>"
      ]
     },
     "metadata": {},
     "output_type": "display_data"
    }
   ],
   "source": [
    "idx = 0\n",
    "print(nnzrs[idx])\n",
    "plt.imshow(np.sum(data_2d2[idx],-1))\n",
    "plt.figure(figsize=(8, 6), dpi=100)"
   ]
  },
  {
   "cell_type": "code",
   "execution_count": 17,
   "metadata": {},
   "outputs": [
    {
     "data": {
      "text/plain": [
       "array([54, 54, 55, 57])"
      ]
     },
     "execution_count": 17,
     "metadata": {},
     "output_type": "execute_result"
    }
   ],
   "source": [
    "nnzrs[idx][:,0]"
   ]
  },
  {
   "cell_type": "code",
   "execution_count": 18,
   "metadata": {},
   "outputs": [],
   "source": [
    "def interpolator(x,y):\n",
    "    f = scipy.interpolate.interp1d(x, y)\n",
    "    xnew = range(min(x),max(x)+1)\n",
    "    ynew = f(xnew).astype(int)\n",
    "    return xnew, ynew"
   ]
  },
  {
   "cell_type": "code",
   "execution_count": 19,
   "metadata": {},
   "outputs": [
    {
     "name": "stderr",
     "output_type": "stream",
     "text": [
      "100%|██████████| 1179356/1179356 [03:35<00:00, 5468.81it/s]"
     ]
    },
    {
     "name": "stdout",
     "output_type": "stream",
     "text": [
      "(1179356, 85, 60, 1)\n"
     ]
    },
    {
     "name": "stderr",
     "output_type": "stream",
     "text": [
      "\n"
     ]
    }
   ],
   "source": [
    "data_2d3 = np.zeros((data_2d2.shape[0],data_2d2.shape[1],data_2d2.shape[2],1))\n",
    "for i in tqdm(range(len(data_2d2)),position=0):\n",
    "    x, y = interpolator(nnzrs[i][:,1],nnzrs[i][:,0])\n",
    "    data_2d3[i,y,x] = 1 \n",
    "print(data_2d3.shape)"
   ]
  },
  {
   "cell_type": "code",
   "execution_count": 20,
   "metadata": {},
   "outputs": [
    {
     "data": {
      "text/plain": [
       "<Figure size 300x300 with 0 Axes>"
      ]
     },
     "metadata": {},
     "output_type": "display_data"
    },
    {
     "data": {
      "image/png": "[encoded data removed]",
      "text/plain": [
       "<Figure size 1332x756 with 10 Axes>"
      ]
     },
     "metadata": {
      "needs_background": "light"
     },
     "output_type": "display_data"
    }
   ],
   "source": [
    "# visualize\n",
    "plt.figure(figsize=(3, 3), dpi=100)\n",
    "fig, axs = plt.subplots(2, 5)\n",
    "cnt = 1\n",
    "for i in range(2):\n",
    "    for j in range(5):\n",
    "        axs[i,j].imshow(np.squeeze(data_2d3[cnt*100000+500]))\n",
    "        cnt += 1\n",
    "fig = plt.gcf()\n",
    "fig.set_size_inches(18.5, 10.5)  # 9.25, 5.25\n",
    "plt.savefig('interpolated_images',dpi=150)"
   ]
  },
  {
   "cell_type": "code",
   "execution_count": 25,
   "metadata": {},
   "outputs": [
    {
     "name": "stderr",
     "output_type": "stream",
     "text": [
      "100%|██████████| 1179356/1179356 [00:10<00:00, 113357.02it/s]\n",
      "100%|██████████| 1179356/1179356 [00:10<00:00, 114490.50it/s]\n"
     ]
    },
    {
     "name": "stdout",
     "output_type": "stream",
     "text": [
      "Max gap: 11\n"
     ]
    }
   ],
   "source": [
    "maxes = [np.max(n[:,0]) for n in tqdm(nnzrs,position=0)]\n",
    "mins = [np.min(n[:,0]) for n in tqdm(nnzrs,position=0)]\n",
    "max_gap = np.max(np.subtract(maxes,mins))\n",
    "print('Max gap: '+str(max_gap))"
   ]
  },
  {
   "cell_type": "code",
   "execution_count": 51,
   "metadata": {},
   "outputs": [
    {
     "name": "stderr",
     "output_type": "stream",
     "text": [
      "100%|██████████| 1179356/1179356 [00:08<00:00, 143494.49it/s]"
     ]
    },
    {
     "name": "stdout",
     "output_type": "stream",
     "text": [
      "(1179356, 12, 60, 1)\n"
     ]
    },
    {
     "name": "stderr",
     "output_type": "stream",
     "text": [
      "\n"
     ]
    }
   ],
   "source": [
    "cropped = np.zeros((data_2d3.shape[0],max_gap+1,data_2d3.shape[2],1))\n",
    "for i in tqdm(range(len(data_2d3)),position=0):\n",
    "    if mins[i] < 40:\n",
    "        cropped[i] = data_2d3[i,mins[i]:mins[i]+max_gap+1]\n",
    "    else:\n",
    "        cropped[i] = data_2d3[i,maxes[i]-max_gap:maxes[i]+1]\n",
    "print(cropped.shape)"
   ]
  },
  {
   "cell_type": "code",
   "execution_count": 52,
   "metadata": {},
   "outputs": [
    {
     "data": {
      "text/plain": [
       "<Figure size 300x300 with 0 Axes>"
      ]
     },
     "metadata": {},
     "output_type": "display_data"
    },
    {
     "data": {
      "image/png": "[encoded data removed]",
      "text/plain": [
       "<Figure size 1332x252 with 10 Axes>"
      ]
     },
     "metadata": {
      "needs_background": "light"
     },
     "output_type": "display_data"
    }
   ],
   "source": [
    "# visualize\n",
    "plt.figure(figsize=(3, 3), dpi=100)\n",
    "fig, axs = plt.subplots(2, 5)\n",
    "cnt = 1\n",
    "for i in range(2):\n",
    "    for j in range(5):\n",
    "        axs[i,j].imshow(np.squeeze(cropped[cnt*100000+500]))\n",
    "        cnt += 1\n",
    "fig = plt.gcf()\n",
    "fig.set_size_inches(18.5, 3.5)  # 9.25, 5.25\n",
    "plt.savefig('cropped_images',dpi=150)"
   ]
  },
  {
   "cell_type": "code",
   "execution_count": 53,
   "metadata": {},
   "outputs": [
    {
     "data": {
      "text/plain": [
       "(1179356, 23)"
      ]
     },
     "execution_count": 53,
     "metadata": {},
     "output_type": "execute_result"
    }
   ],
   "source": [
    "# remaining features\n",
    "bend = np.array(df.loc[:,'BendingAngle_0':'BendingAngle_4'])\n",
    "time = np.array(df.loc[:,'TimeInfo_0':'TimeInfo_4'])\n",
    "ring = np.array(df.loc[:,'RingNumber_0':'RingNumber_4'])\n",
    "mask = np.array(df.loc[:,'Mask_0':'Mask_4'])\n",
    "road = np.array(df.loc[:,'PatternStraightness':'MedianTheta'])\n",
    "rem_feats = np.concatenate([bend,time,ring,mask,road,front_rear],1)\n",
    "rem_feats.shape"
   ]
  },
  {
   "cell_type": "code",
   "execution_count": 54,
   "metadata": {},
   "outputs": [
    {
     "name": "stdout",
     "output_type": "stream",
     "text": [
      "(943484, 12, 60, 1)\n",
      "(235872, 12, 60, 1)\n",
      "(943484, 23)\n",
      "(235872, 23)\n"
     ]
    }
   ],
   "source": [
    "# x_train2, x_test2, road_tr, road_ts = train_test_split(data_2d, road, test_size = 0.2, random_state = 1)\n",
    "# x_train2 = x_train.reshape(x_train.shape[0],8,4)\n",
    "# x_test2 = x_test.reshape(x_test.shape[0],8,4)\n",
    "# x_train2 = np.expand_dims(x_train2,-1)\n",
    "# x_test2 = np.expand_dims(x_test2,-1)\n",
    "\n",
    "x_train2, x_test2, rem_tr, rem_ts = train_test_split(cropped, rem_feats, test_size = 0.2, random_state = 1)\n",
    "# x_train2, x_test2 = train_test_split(cropped, test_size = 0.2, random_state = 1)\n",
    "# x_train2 = np.expand_dims(x_train2,-1)\n",
    "# x_test2 = np.expand_dims(x_test2,-1)\n",
    "\n",
    "print(x_train2.shape)\n",
    "print(x_test2.shape)\n",
    "print(rem_tr.shape)\n",
    "print(rem_ts.shape)"
   ]
  },
  {
   "cell_type": "code",
   "execution_count": 55,
   "metadata": {},
   "outputs": [
    {
     "name": "stdout",
     "output_type": "stream",
     "text": [
      "(943484,)\n",
      "(235872,)\n",
      "(943484,)\n",
      "(235872,)\n"
     ]
    }
   ],
   "source": [
    "pT_tr, pT_ts, inv_pT_tr, inv_pT_ts = train_test_split(pT, 1/pT, test_size = 0.2, random_state = 1)\n",
    "print(pT_tr.shape)\n",
    "print(pT_ts.shape)\n",
    "print(inv_pT_tr.shape)\n",
    "print(inv_pT_ts.shape)"
   ]
  },
  {
   "cell_type": "code",
   "execution_count": 56,
   "metadata": {},
   "outputs": [],
   "source": [
    "# callbacks\n",
    "early_stopping = keras.callbacks.EarlyStopping(monitor=\"val_loss\", restore_best_weights=True, patience = 10)\n",
    "reduce_lr = ReduceLROnPlateau(monitor='val_loss', factor=0.8, patience=5,verbose=0)\n",
    "# checkpoint = ModelCheckpoint(\"models/model.h5\", monitor='val_accuracy', save_best_only=True)"
   ]
  },
  {
   "cell_type": "markdown",
   "metadata": {},
   "source": [
    "### Models"
   ]
  },
  {
   "cell_type": "code",
   "execution_count": 57,
   "metadata": {},
   "outputs": [],
   "source": [
    "def FCNN(num_class,activation,opt,loss_fn,in_shape,metric):\n",
    "    \n",
    "    I = Input(shape=in_shape)\n",
    "    x = Dense(512,activation='relu')(I)\n",
    "    x = Dense(256,activation='relu')(x)\n",
    "    x = Dense(128,activation='relu')(x)\n",
    "    x = Dense(128,activation='relu')(x)\n",
    "    x = Dense(128,activation='relu')(x)\n",
    "    O = Dense(num_class,activation=activation)(x)\n",
    "    \n",
    "    model = keras.Model(inputs=I, outputs=O)\n",
    "    model.compile(optimizer = opt, loss = loss_fn)\n",
    "    return model"
   ]
  },
  {
   "cell_type": "code",
   "execution_count": 58,
   "metadata": {},
   "outputs": [],
   "source": [
    "def CNN(num_class,activation_fn,opt,loss_fn,metric):\n",
    "    \n",
    "    activation = tf.keras.layers.LeakyReLU(0.15)\n",
    "    I = Input(shape=(x_train2.shape[1],x_train2.shape[2],x_train2.shape[3]))\n",
    "    x = Conv2D(512, kernel_size=(2, 2),padding = 'same',activation=activation)(I)\n",
    "    x = MaxPooling2D((2,1))(x) \n",
    "    x = Conv2D(128, kernel_size=(2, 2),padding = 'same',activation=activation)(x)\n",
    "    x = MaxPooling2D((2,2))(x) \n",
    "#     x = Conv2D(128, kernel_size=(2, 2),padding = 'same',activation=activation)(x)\n",
    "#     x = Conv2D(128, kernel_size=(2, 2),padding = 'same',activation=activation)(x)\n",
    "    x = Flatten()(x)\n",
    "    x = Dense(256, activation=activation)(x)\n",
    "    x = Dropout(0.5)(x)\n",
    "    x = Dense(128, activation=activation)(x)\n",
    "#     x = Dense(128, activation=activation)(x)\n",
    "#     x = Dense(64, activation=activation)(x)\n",
    "    \n",
    "    O = Dense(num_class,activation=activation_fn)(x)\n",
    "    \n",
    "    model = keras.Model(inputs=I, outputs=O)\n",
    "    model.compile(optimizer = opt, loss = loss_fn)\n",
    "\n",
    "    return model"
   ]
  },
  {
   "cell_type": "code",
   "execution_count": 59,
   "metadata": {},
   "outputs": [],
   "source": [
    "def CNN_grid(num_class,activation_fn,opt,loss_fn,metric, num_conv, num_fcn):\n",
    "    \n",
    "    activation = tf.keras.layers.LeakyReLU(0.15)\n",
    "    I = Input(shape=(x_train2.shape[1],x_train2.shape[2],x_train2.shape[3]))\n",
    "    x = Conv2D(512, kernel_size=(2, 2),padding = 'same',activation=activation)(I)\n",
    "    for i in range(num_conv-1):\n",
    "        x = Conv2D(128, kernel_size=(2, 2),padding = 'same',activation=activation)(x)\n",
    "#     x = MaxPooling2D((2,2))(x) \n",
    "#     x = Conv2D(128, kernel_size=(2, 2),padding = 'same',activation=activation)(x)\n",
    "#     x = Conv2D(128, kernel_size=(2, 2),padding = 'same',activation=activation)(x)\n",
    "    x = Flatten()(x)\n",
    "    x = Dense(256, activation=activation)(x)\n",
    "    for i in range(num_fcn):\n",
    "        x = Dense(128, activation=activation)(x)\n",
    "#     x = Dense(128, activation=activation)(x)\n",
    "#     x = Dense(64, activation=activation)(x)\n",
    "    \n",
    "    O = Dense(num_class,activation=activation_fn)(x)\n",
    "    \n",
    "    model = keras.Model(inputs=I, outputs=O)\n",
    "    model.compile(optimizer = opt, loss = loss_fn)\n",
    "\n",
    "    return model"
   ]
  },
  {
   "cell_type": "code",
   "execution_count": 70,
   "metadata": {},
   "outputs": [],
   "source": [
    "def multi(num_class,activation_fn,opt,loss_fn,metric):\n",
    "    \n",
    "#     activation = tf.keras.layers.LeakyReLU(0.15)\n",
    "    activation = 'relu'\n",
    "    I = Input(shape=(x_train2.shape[1],x_train2.shape[2],x_train2.shape[3]))\n",
    "    x = Conv2D(32, kernel_size=(2, 2), padding = 'same', activation=activation)(I)\n",
    "    x = MaxPooling2D((2,2))(x)\n",
    "    x = Conv2D(64, kernel_size=(2, 2), padding = 'same', activation=activation)(x)\n",
    "    x = MaxPooling2D((2,2))(x)\n",
    "    x = Conv2D(64, kernel_size=(2, 2), padding = 'same', activation=activation)(x)\n",
    "    x = MaxPooling2D((2,2))(x)\n",
    "    x = Flatten()(x)\n",
    "    \n",
    "    I2 = Input(shape=(rem_tr.shape[1],))\n",
    "    y = Dense(128, activation=activation)(I2)\n",
    "    y = Dense(64, activation=activation)(y)\n",
    "    y = Dense(64, activation=activation)(y)\n",
    "    \n",
    "    z = concatenate([x,y])\n",
    "    \n",
    "    z = Dense(32, activation=activation)(z)\n",
    "    \n",
    "    O = Dense(num_class,activation=activation_fn)(z)\n",
    "    \n",
    "    model = keras.Model(inputs=[I,I2], outputs=O)\n",
    "    model.compile(optimizer = opt, loss = loss_fn)\n",
    "\n",
    "    return model"
   ]
  },
  {
   "cell_type": "code",
   "execution_count": 61,
   "metadata": {},
   "outputs": [],
   "source": [
    "def pTLossTF(y_true,y_pred):\n",
    "    y_t = K.cast(y_true<80,K.dtype(y_true))*y_true + K.cast(y_true>=80,K.dtype(y_true))*K.cast(y_true<250,K.dtype(y_true))*y_true*2.4 + K.cast(y_true>=160,K.dtype(y_true))*10 \n",
    "    return K.mean(y_t*K.pow((y_pred-y_true)/y_true,2))/250"
   ]
  },
  {
   "cell_type": "markdown",
   "metadata": {},
   "source": [
    "#### FCNN"
   ]
  },
  {
   "cell_type": "code",
   "execution_count": 21,
   "metadata": {},
   "outputs": [],
   "source": [
    "# FCNN\n",
    "# opt = Adam(learning_rate = 2e-4, decay = 1e-3/100)\n",
    "opt = Adam()\n",
    "num_class = 1 # y_train.shape[-1]\n",
    "activation = 'linear'\n",
    "loss_fn = pTLossTF\n",
    "metric = 'loss'\n",
    "in_shape = (x_train.shape[1],)\n",
    "model = FCNN(num_class,activation,opt,loss_fn,in_shape,metric)\n",
    "# model.summary()"
   ]
  },
  {
   "cell_type": "code",
   "execution_count": 22,
   "metadata": {
    "scrolled": false
   },
   "outputs": [
    {
     "data": {
      "image/png": "[encoded data removed]",
      "text/plain": [
       "<Figure size 864x576 with 2 Axes>"
      ]
     },
     "metadata": {
      "needs_background": "light"
     },
     "output_type": "display_data"
    },
    {
     "name": "stdout",
     "output_type": "stream",
     "text": [
      "Loss\n",
      "\ttraining         \t (min:    0.000, max:    0.000, cur:    0.000)\n",
      "\tvalidation       \t (min:    0.000, max:    0.000, cur:    0.000)\n",
      "lr\n",
      "\tlr               \t (min:    0.000, max:    0.001, cur:    0.000)\n",
      "\b\b\b\b\b\b\b\b\b\b\b\b\b\b\b\b\b\b\b\b\b\b\b\b\b\b\b\b\b\b\b\b\b\b\b\b\b\b\b\b\b\b\b\b\b\b\b\b\b\b\b\b\b\b\b\b\b\b\b\b\b\b\b\b\b\b\b\b\b\b\b\r",
      "1843/1843 [==============================] - 8s 4ms/step - loss: 5.1222e-05 - val_loss: 1.4152e-04\n"
     ]
    }
   ],
   "source": [
    "history = model.fit(x_train, inv_pT_tr, validation_data=(x_test, inv_pT_ts), batch_size = 512, verbose = 1,\n",
    "                   epochs = 100, callbacks = [early_stopping, reduce_lr, PlotLossesKerasTF()])"
   ]
  },
  {
   "cell_type": "code",
   "execution_count": 23,
   "metadata": {},
   "outputs": [
    {
     "name": "stdout",
     "output_type": "stream",
     "text": [
      "results/hist_reg_fcnn_mse_invPT_ptloss.npy saved!\n",
      "models/model_reg_fcnn_mse_invPT_ptloss.json saved!\n"
     ]
    }
   ],
   "source": [
    "fname = 'hist_reg_fcnn_mse_invPT_ptloss'\n",
    "hist_name = \"results/\"+fname+\".npy\"\n",
    "np.save(hist_name,history.history)\n",
    "print(hist_name+' saved!')\n",
    "model_name = 'models/'+fname.replace('hist','model')+'.json'\n",
    "weight_name = model_name.replace('json','h5')\n",
    "model_json = model.to_json()\n",
    "with open(model_name,'w') as json_file:\n",
    "    json_file.write(model_json)\n",
    "model.save_weights(weight_name)\n",
    "print(model_name+' saved!')\n",
    "item = np.load(hist_name,allow_pickle=True).item()"
   ]
  },
  {
   "cell_type": "code",
   "execution_count": 24,
   "metadata": {},
   "outputs": [],
   "source": [
    "# FCNN\n",
    "# opt = Adam(learning_rate = 2e-4, decay = 1e-3/100)\n",
    "opt = Adam()\n",
    "num_class = 1 # y_train.shape[-1]\n",
    "activation = 'linear'\n",
    "loss_fn = pTLossTF\n",
    "metric = 'loss'\n",
    "in_shape = (x_train.shape[1],)\n",
    "model = FCNN(num_class,activation,opt,loss_fn,in_shape,metric)\n",
    "# model.summary()"
   ]
  },
  {
   "cell_type": "code",
   "execution_count": 25,
   "metadata": {
    "scrolled": false
   },
   "outputs": [
    {
     "data": {
      "image/png": "[encoded data removed]",
      "text/plain": [
       "<Figure size 864x576 with 2 Axes>"
      ]
     },
     "metadata": {
      "needs_background": "light"
     },
     "output_type": "display_data"
    },
    {
     "name": "stdout",
     "output_type": "stream",
     "text": [
      "Loss\n",
      "\ttraining         \t (min:    0.000, max:    0.030, cur:    0.010)\n",
      "\tvalidation       \t (min:    0.000, max:    0.028, cur:    0.013)\n",
      "lr\n",
      "\tlr               \t (min:    0.000, max:    0.001, cur:    0.000)\n",
      "\b\b\b\b\b\b\b\b\b\b\b\b\b\b\b\b\b\b\b\b\b\b\b\b\b\b\b\b\b\b\b\b\b\b\b\b\b\b\b\b\b\b\b\b\b\b\b\b\b\b\b\b\b\b\b\b\b\b\b\b\b\b\b\b\b\b\b\r",
      "1843/1843 [==============================] - 7s 4ms/step - loss: 0.0103 - val_loss: 0.0129\n"
     ]
    }
   ],
   "source": [
    "history = model.fit(x_train, pT_tr, validation_data=(x_test, pT_ts), batch_size = 512, verbose = 1,\n",
    "                   epochs = 100, callbacks = [early_stopping, reduce_lr, PlotLossesKerasTF()])"
   ]
  },
  {
   "cell_type": "code",
   "execution_count": 26,
   "metadata": {},
   "outputs": [
    {
     "name": "stdout",
     "output_type": "stream",
     "text": [
      "results/hist_reg_fcnn_mse_pT_ptloss.npy saved!\n",
      "models/model_reg_fcnn_mse_pT_ptloss.json saved!\n"
     ]
    }
   ],
   "source": [
    "fname = 'hist_reg_fcnn_mse_pT_ptloss'\n",
    "hist_name = \"results/\"+fname+\".npy\"\n",
    "np.save(hist_name,history.history)\n",
    "print(hist_name+' saved!')\n",
    "model_name = 'models/'+fname.replace('hist','model')+'.json'\n",
    "weight_name = model_name.replace('json','h5')\n",
    "model_json = model.to_json()\n",
    "with open(model_name,'w') as json_file:\n",
    "    json_file.write(model_json)\n",
    "model.save_weights(weight_name)\n",
    "print(model_name+' saved!')\n",
    "item = np.load(hist_name,allow_pickle=True).item()"
   ]
  },
  {
   "cell_type": "markdown",
   "metadata": {},
   "source": [
    "#### CNN"
   ]
  },
  {
   "cell_type": "code",
   "execution_count": 62,
   "metadata": {},
   "outputs": [],
   "source": [
    "# CNN\n",
    "opt = Adam()\n",
    "num_class = 1 # y_train.shape[-1]\n",
    "activation = 'linear'\n",
    "loss_fn = pTLossTF\n",
    "metric = 'loss'\n",
    "model = CNN(num_class,activation,opt,loss_fn,metric)\n",
    "# model.summary()"
   ]
  },
  {
   "cell_type": "code",
   "execution_count": 63,
   "metadata": {
    "scrolled": false
   },
   "outputs": [
    {
     "data": {
      "image/png": "[encoded data removed]",
      "text/plain": [
       "<Figure size 864x576 with 2 Axes>"
      ]
     },
     "metadata": {
      "needs_background": "light"
     },
     "output_type": "display_data"
    },
    {
     "name": "stdout",
     "output_type": "stream",
     "text": [
      "Loss\n",
      "\ttraining         \t (min:    0.026, max:    0.027, cur:    0.026)\n",
      "\tvalidation       \t (min:    0.025, max:    0.026, cur:    0.025)\n",
      "lr\n",
      "\tlr               \t (min:    0.001, max:    0.001, cur:    0.001)\n",
      "\b\b\b\b\b\b\b\b\b\b\b\b\b\b\b\b\b\b\b\b\b\b\b\b\b\b\b\b\b\b\b\b\b\b\b\b\b\b\b\b\b\b\b\b\b\b\b\b\b\b\b\b\b\b\b\b\b\b\b\b\b\b\b\b\b\b\b\r",
      "3686/3686 [==============================] - 159s 43ms/step - loss: 0.0259 - val_loss: 0.0253\n"
     ]
    }
   ],
   "source": [
    "history = model.fit([x_train2], pT_tr, validation_data=([x_test2], pT_ts), batch_size = 256, verbose = 1,\n",
    "                   epochs = 100, callbacks = [early_stopping, reduce_lr, PlotLossesKerasTF()])"
   ]
  },
  {
   "cell_type": "code",
   "execution_count": 64,
   "metadata": {},
   "outputs": [
    {
     "name": "stdout",
     "output_type": "stream",
     "text": [
      "results/hist_reg_cnn_mse_pT_ptloss_v5.npy saved!\n",
      "models/model_reg_cnn_mse_pT_ptloss_v5.json saved!\n"
     ]
    }
   ],
   "source": [
    "fname = 'hist_reg_cnn_mse_pT_ptloss_v5'\n",
    "hist_name = \"results/\"+fname+\".npy\"\n",
    "np.save(hist_name,history.history)\n",
    "print(hist_name+' saved!')\n",
    "model_name = 'models/'+fname.replace('hist','model')+'.json'\n",
    "weight_name = model_name.replace('json','h5')\n",
    "model_json = model.to_json()\n",
    "with open(model_name,'w') as json_file:\n",
    "    json_file.write(model_json)\n",
    "model.save_weights(weight_name)\n",
    "print(model_name+' saved!')\n",
    "item = np.load(hist_name,allow_pickle=True).item()"
   ]
  },
  {
   "cell_type": "code",
   "execution_count": 65,
   "metadata": {},
   "outputs": [],
   "source": [
    "# CNN\n",
    "opt = Adam()\n",
    "num_class = 1 # y_train.shape[-1]\n",
    "activation = 'linear'\n",
    "loss_fn = pTLossTF\n",
    "metric = 'loss'\n",
    "model = CNN(num_class,activation,opt,loss_fn,metric)\n",
    "# model.summary()"
   ]
  },
  {
   "cell_type": "code",
   "execution_count": 66,
   "metadata": {
    "scrolled": false
   },
   "outputs": [
    {
     "data": {
      "image/png": "[encoded data removed]",
      "text/plain": [
       "<Figure size 864x576 with 2 Axes>"
      ]
     },
     "metadata": {
      "needs_background": "light"
     },
     "output_type": "display_data"
    },
    {
     "name": "stdout",
     "output_type": "stream",
     "text": [
      "Loss\n",
      "\ttraining         \t (min:    0.000, max:    0.027, cur:    0.000)\n",
      "\tvalidation       \t (min:    0.000, max:    0.026, cur:    0.000)\n",
      "lr\n",
      "\tlr               \t (min:    0.001, max:    0.001, cur:    0.001)\n",
      "\b\b\b\b\b\b\b\b\b\b\b\b\b\b\b\b\b\b\b\b\b\b\b\b\b\b\b\b\b\b\b\b\b\b\b\b\b\b\b\b\b\b\b\b\b\b\b\b\b\b\b\b\b\b\b\b\b\b\b\b\b\b\b\b\b\b\b\b\b\b\b\r",
      "3686/3686 [==============================] - 159s 43ms/step - loss: 1.4505e-04 - val_loss: 2.0125e-04\n"
     ]
    }
   ],
   "source": [
    "history = model.fit([x_train2], inv_pT_tr, validation_data=([x_test2], inv_pT_ts), batch_size = 256, verbose = 1,\n",
    "                   epochs = 100, callbacks = [early_stopping, reduce_lr, PlotLossesKerasTF()])"
   ]
  },
  {
   "cell_type": "code",
   "execution_count": 67,
   "metadata": {},
   "outputs": [
    {
     "name": "stdout",
     "output_type": "stream",
     "text": [
      "results/hist_reg_cnn_mse_invPT_ptloss_v5.npy saved!\n",
      "models/model_reg_cnn_mse_invPT_ptloss_v5.json saved!\n"
     ]
    }
   ],
   "source": [
    "fname = 'hist_reg_cnn_mse_invPT_ptloss_v5'\n",
    "hist_name = \"results/\"+fname+\".npy\"\n",
    "np.save(hist_name,history.history)\n",
    "print(hist_name+' saved!')\n",
    "model_name = 'models/'+fname.replace('hist','model')+'.json'\n",
    "weight_name = model_name.replace('json','h5')\n",
    "model_json = model.to_json()\n",
    "with open(model_name,'w') as json_file:\n",
    "    json_file.write(model_json)\n",
    "model.save_weights(weight_name)\n",
    "print(model_name+' saved!')\n",
    "# item = np.load(hist_name,allow_pickle=True).item()"
   ]
  },
  {
   "cell_type": "code",
   "execution_count": 1,
   "metadata": {},
   "outputs": [],
   "source": [
    "# # CNN inv_pT grid\n",
    "# loss_best = 9e9\n",
    "# losses = []\n",
    "# opt = Adam()\n",
    "# num_conv = [1, 2, 3, 4, 5]\n",
    "# num_fcn = [0, 1, 2, 3, 4, 5]\n",
    "# num_class = 1 # y_train.shape[-1]\n",
    "# activation = 'linear'\n",
    "# loss_fn = pTLossTF\n",
    "# metric = 'loss'\n",
    "# cnt = 1\n",
    "# fname = 'hist_reg_cnn_mse_invPT_ptloss_v5grid'\n",
    "# hist_name = \"results/\"+fname+\".npy\"\n",
    "# model_name = 'models/'+fname.replace('hist','model')+'.json'\n",
    "# for c in range(len(num_conv)):\n",
    "#     for f in range(len(num_fcn)):\n",
    "#         model = CNN_grid(num_class,activation,opt,loss_fn,metric,num_conv[c],num_fcn[f])\n",
    "#         history = model.fit([x_train2], inv_pT_tr, validation_data=([x_test2], inv_pT_ts), batch_size = 256, verbose = 0,\n",
    "#                    epochs = 100, callbacks = [early_stopping, reduce_lr])\n",
    "#         loss = model.evaluate([x_test2], inv_pT_ts, steps = len(inv_pT_ts), verbose = 0)\n",
    "#         print(str(cnt)+'. model: Num. Conv='+str(num_conv[c])+', Num. Dense='+str(num_fcn[f])+', Loss='+str(loss))\n",
    "#         if loss < loss_best:\n",
    "#             loss_best = loss\n",
    "#             np.save(hist_name,history.history)\n",
    "#             weight_name = model_name.replace('json','h5')\n",
    "#             model_json = model.to_json()\n",
    "#             with open(model_name,'w') as json_file:\n",
    "#                 json_file.write(model_json)\n",
    "#             model.save_weights(weight_name)\n",
    "#         cnt += 1\n",
    "# # model.summary()"
   ]
  },
  {
   "cell_type": "markdown",
   "metadata": {},
   "source": [
    "### Multi"
   ]
  },
  {
   "cell_type": "code",
   "execution_count": 71,
   "metadata": {},
   "outputs": [],
   "source": [
    "# Multi\n",
    "opt = Adam()\n",
    "num_class = 1 # y_train.shape[-1]\n",
    "activation = 'linear'\n",
    "loss_fn = pTLossTF\n",
    "metric = 'loss'\n",
    "model = multi(num_class,activation,opt,loss_fn,metric)\n",
    "# model.summary()"
   ]
  },
  {
   "cell_type": "code",
   "execution_count": 72,
   "metadata": {
    "scrolled": false
   },
   "outputs": [
    {
     "data": {
      "image/png": "[encoded data removed]",
      "text/plain": [
       "<Figure size 864x576 with 2 Axes>"
      ]
     },
     "metadata": {
      "needs_background": "light"
     },
     "output_type": "display_data"
    },
    {
     "name": "stdout",
     "output_type": "stream",
     "text": [
      "Loss\n",
      "\ttraining         \t (min:    0.000, max:    0.027, cur:    0.024)\n",
      "\tvalidation       \t (min:    0.000, max:    0.026, cur:    0.023)\n",
      "lr\n",
      "\tlr               \t (min:    0.000, max:    0.001, cur:    0.000)\n",
      "\b\b\b\b\b\b\b\b\b\b\b\b\b\b\b\b\b\b\b\b\b\b\b\b\b\b\b\b\b\b\b\b\b\b\b\b\b\b\b\b\b\b\b\b\b\b\b\b\b\b\b\b\b\b\b\b\b\b\b\b\b\b\b\b\b\b\b\r",
      "3686/3686 [==============================] - 23s 6ms/step - loss: 0.0235 - val_loss: 0.0233\n"
     ]
    }
   ],
   "source": [
    "history = model.fit([x_train2, rem_tr], pT_tr, validation_data=([x_test2, rem_ts], pT_ts), batch_size = 256, verbose = 1,\n",
    "                   epochs = 100, callbacks = [early_stopping, reduce_lr, PlotLossesKerasTF()])"
   ]
  },
  {
   "cell_type": "code",
   "execution_count": 73,
   "metadata": {},
   "outputs": [
    {
     "name": "stdout",
     "output_type": "stream",
     "text": [
      "results/hist_reg_multi_mse_pT_ptloss_v5.npy saved!\n",
      "models/model_reg_multi_mse_pT_ptloss_v5.json saved!\n"
     ]
    }
   ],
   "source": [
    "fname = 'hist_reg_multi_mse_pT_ptloss_v5'\n",
    "hist_name = \"results/\"+fname+\".npy\"\n",
    "np.save(hist_name,history.history)\n",
    "print(hist_name+' saved!')\n",
    "model_name = 'models/'+fname.replace('hist','model')+'.json'\n",
    "weight_name = model_name.replace('json','h5')\n",
    "model_json = model.to_json()\n",
    "with open(model_name,'w') as json_file:\n",
    "    json_file.write(model_json)\n",
    "model.save_weights(weight_name)\n",
    "print(model_name+' saved!')\n",
    "item = np.load(hist_name,allow_pickle=True).item()"
   ]
  },
  {
   "cell_type": "code",
   "execution_count": 74,
   "metadata": {},
   "outputs": [],
   "source": [
    "# Multi\n",
    "opt = Adam()\n",
    "num_class = 1 # y_train.shape[-1]\n",
    "activation = 'linear'\n",
    "loss_fn = pTLossTF\n",
    "metric = 'loss'\n",
    "model = multi(num_class,activation,opt,loss_fn,metric)\n",
    "# model.summary()"
   ]
  },
  {
   "cell_type": "code",
   "execution_count": 75,
   "metadata": {
    "scrolled": false
   },
   "outputs": [
    {
     "data": {
      "image/png": "[encoded data removed]",
      "text/plain": [
       "<Figure size 864x576 with 2 Axes>"
      ]
     },
     "metadata": {
      "needs_background": "light"
     },
     "output_type": "display_data"
    },
    {
     "name": "stdout",
     "output_type": "stream",
     "text": [
      "Loss\n",
      "\ttraining         \t (min:    0.000, max:    0.027, cur:    0.000)\n",
      "\tvalidation       \t (min:    0.000, max:    0.026, cur:    0.000)\n",
      "lr\n",
      "\tlr               \t (min:    0.000, max:    0.001, cur:    0.001)\n",
      "\b\b\b\b\b\b\b\b\b\b\b\b\b\b\b\b\b\b\b\b\b\b\b\b\b\b\b\b\b\b\b\b\b\b\b\b\b\b\b\b\b\b\b\b\b\b\b\b\b\b\b\b\b\b\b\b\b\b\b\b\b\b\b\b\b\b\b\b\b\b\b\r",
      "3686/3686 [==============================] - 24s 7ms/step - loss: 1.3717e-04 - val_loss: 2.0510e-04\n"
     ]
    }
   ],
   "source": [
    "history = model.fit([x_train2, rem_tr], inv_pT_tr, validation_data=([x_test2, rem_ts], inv_pT_ts), batch_size = 256, verbose = 1,\n",
    "                   epochs = 100, callbacks = [early_stopping, reduce_lr, PlotLossesKerasTF()])"
   ]
  },
  {
   "cell_type": "code",
   "execution_count": 76,
   "metadata": {},
   "outputs": [
    {
     "name": "stdout",
     "output_type": "stream",
     "text": [
      "results/hist_reg_multi_mse_invPT_ptloss_v5.npy saved!\n",
      "models/model_reg_multi_mse_invPT_ptloss_v5.json saved!\n"
     ]
    }
   ],
   "source": [
    "fname = 'hist_reg_multi_mse_invPT_ptloss_v5'\n",
    "hist_name = \"results/\"+fname+\".npy\"\n",
    "np.save(hist_name,history.history)\n",
    "print(hist_name+' saved!')\n",
    "model_name = 'models/'+fname.replace('hist','model')+'.json'\n",
    "weight_name = model_name.replace('json','h5')\n",
    "model_json = model.to_json()\n",
    "with open(model_name,'w') as json_file:\n",
    "    json_file.write(model_json)\n",
    "model.save_weights(weight_name)\n",
    "print(model_name+' saved!')\n",
    "# item = np.load(hist_name,allow_pickle=True).item()"
   ]
  },
  {
   "cell_type": "code",
   "execution_count": null,
   "metadata": {},
   "outputs": [],
   "source": []
  },
  {
   "cell_type": "code",
   "execution_count": null,
   "metadata": {},
   "outputs": [],
   "source": []
  }
 ],
 "metadata": {
  "kernelspec": {
   "display_name": "Python 3",
   "language": "python",
   "name": "python3"
  },
  "language_info": {
   "codemirror_mode": {
    "name": "ipython",
    "version": 3
   },
   "file_extension": ".py",
   "mimetype": "text/x-python",
   "name": "python",
   "nbconvert_exporter": "python",
   "pygments_lexer": "ipython3",
   "version": "3.8.10"
  }
 },
 "nbformat": 4,
 "nbformat_minor": 2
}
