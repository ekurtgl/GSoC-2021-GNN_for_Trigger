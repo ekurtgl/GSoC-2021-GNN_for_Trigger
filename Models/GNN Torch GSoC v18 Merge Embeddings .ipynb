{
 "cells": [
  {
   "cell_type": "code",
   "execution_count": 3,
   "id": "d7a76875",
   "metadata": {},
   "outputs": [
    {
     "name": "stdout",
     "output_type": "stream",
     "text": [
      "1.9.0+cu111\n",
      "11.1\n"
     ]
    }
   ],
   "source": [
    "import torch\n",
    "print(torch.__version__)\n",
    "print(torch.version.cuda)"
   ]
  },
  {
   "cell_type": "code",
   "execution_count": 4,
   "id": "79109b4e",
   "metadata": {},
   "outputs": [],
   "source": [
    "from typing import Union, Tuple\n",
    "from torch_geometric.typing import OptPairTensor, Adj, Size # Optional[Tensor], Union[Tensor, SparseTensor], Optional[Tuple[int, int]], all about data type\n",
    "\n",
    "from torch import Tensor\n",
    "from torch.nn import Linear\n",
    "import torch.nn.functional as F\n",
    "from torch_sparse import SparseTensor, matmul\n",
    "from torch_geometric.nn.conv import MessagePassing"
   ]
  },
  {
   "cell_type": "code",
   "execution_count": 5,
   "id": "138bf96a",
   "metadata": {},
   "outputs": [],
   "source": [
    "import warnings\n",
    "warnings.filterwarnings(\"ignore\")\n",
    "import os\n",
    "import time\n",
    "import random\n",
    "from tqdm import tqdm\n",
    "import pandas as pd\n",
    "import numpy as np\n",
    "import matplotlib.pyplot as plt\n",
    "\n",
    "from joblib import Parallel, delayed\n",
    "\n",
    "from sklearn.preprocessing import StandardScaler, MinMaxScaler\n",
    "from sklearn.model_selection import train_test_split\n",
    "\n",
    "import torch\n",
    "import torch.nn.functional as F\n",
    "import torch_geometric.nn as gnn\n",
    "from torch_geometric.nn import MessagePassing\n",
    "from torch_geometric.data import Dataset, Data, DataLoader\n",
    "from torch_geometric.nn import global_mean_pool as gap, global_max_pool as gmp\n",
    "from torch_geometric.utils import softmax"
   ]
  },
  {
   "cell_type": "code",
   "execution_count": 6,
   "id": "0f31b7ac",
   "metadata": {},
   "outputs": [],
   "source": [
    "inv = 0"
   ]
  },
  {
   "cell_type": "code",
   "execution_count": 7,
   "id": "da2f867c",
   "metadata": {},
   "outputs": [
    {
     "name": "stdout",
     "output_type": "stream",
     "text": [
      "Index(['Unnamed: 0', 'Phi_0', 'Phi_2', 'Phi_3', 'Phi_4', 'Theta_0', 'Theta_2',\n",
      "       'Theta_3', 'Theta_4', 'BendingAngle_0', 'BendingAngle_2',\n",
      "       'BendingAngle_3', 'BendingAngle_4', 'TimeInfo_0', 'TimeInfo_2',\n",
      "       'TimeInfo_3', 'TimeInfo_4', 'RingNumber_0', 'RingNumber_2',\n",
      "       'RingNumber_3', 'RingNumber_4', 'Front_0', 'Front_2', 'Front_3',\n",
      "       'Front_4', 'Mask_0', 'Mask_2', 'Mask_3', 'Mask_4',\n",
      "       'PatternStraightness', 'Zone', 'MedianTheta', 'q/pt', 'PhiAngle',\n",
      "       'EtaAngle'],\n",
      "      dtype='object')\n"
     ]
    }
   ],
   "source": [
    "df = pd.read_csv('input/CMS_trigger.csv')\n",
    "print(df.columns)\n",
    "df\n",
    "\n",
    "scaler_1 = StandardScaler()\n",
    "df.loc[:,'Phi_0':'MedianTheta'] = scaler_1.fit_transform(df.loc[:,'Phi_0':'MedianTheta']) # normalize"
   ]
  },
  {
   "cell_type": "code",
   "execution_count": 8,
   "id": "9bd31d71",
   "metadata": {},
   "outputs": [],
   "source": [
    "features = ['Phi_'+str(i) for i in [0,2,3,4]] + ['Theta_'+str(i) for i in [0,2,3,4]] + \\\n",
    "['Front_'+str(i) for i in [0,2,3,4]] + ['BendingAngle_'+str(i) for i in [0,2,3,4]] + \\\n",
    "['RingNumber_'+str(i) for i in [0,2,3,4]] + \\\n",
    "['TimeInfo_'+str(i) for i in [0,2,3,4]] + ['Mask_'+str(i) for i in [0,2,3,4]] #+ ['PatternStraightness'] + ['Zone'] + ['MedianTheta']\n",
    "# edge_index = torch.tensor([(0,1),(1,2),(2,3),(3,2),(2,1),(1,0)], dtype=torch.long).T\n",
    "edge_index = [(0,1),(1,2),(2,3),(3,2),(2,1),(1,0)]\n",
    "# edge_index = [(0,1),(1,2),(2,3),(2,4),(1,0),(2,1),(3,2),(4,2)]\n",
    "# edge_index = [(0,1),(1,2),(2,3),(2,4),(1,0),(0,2),(2,1),(3,2),(4,2),(2,5),(2,6),(5,2),(6,2)]\n",
    "# edge_index = [(0,1),(1,2),(2,3),(2,4),(1,0),(2,1),(3,2),(4,2),(3,4),(4,3),(1,3),(1,4),(0,3),(0,4),(0,2)]"
   ]
  },
  {
   "cell_type": "code",
   "execution_count": 9,
   "id": "4e068f4c",
   "metadata": {},
   "outputs": [
    {
     "name": "stdout",
     "output_type": "stream",
     "text": [
      "Data shape: (1179356, 28)\n",
      "(1179356,)\n",
      "Len train: 943484, Len test: 235872\n",
      "Num. features: 28\n"
     ]
    }
   ],
   "source": [
    "# x_train, x_test, pT_tr, pT_ts, inv_pT_tr, inv_pT_ts = train_test_split(df[features].to_numpy(), abs(1/df.loc[:,'q/pt']).to_numpy(), 1/abs(1/df.loc[:,'q/pt']).to_numpy(), test_size = 0.2, random_state = 1)\n",
    "train_mask, test_mask = train_test_split(df['Unnamed: 0'].to_numpy(), test_size = 0.2, random_state = 1)\n",
    "x_data = df[features].to_numpy()\n",
    "pT = abs(1/df.loc[:,'q/pt']).to_numpy()\n",
    "inv_pT = 1/pT\n",
    "if inv:\n",
    "    label = inv_pT\n",
    "else:\n",
    "    label = pT\n",
    "num_features = x_data.shape[-1]\n",
    "print('Data shape: ' + str(x_data.shape))\n",
    "print(pT.shape)\n",
    "print('Len train: '+str(len(train_mask))+', Len test: '+str(len(test_mask)))\n",
    "print('Num. features: '+str(num_features))"
   ]
  },
  {
   "cell_type": "code",
   "execution_count": 10,
   "id": "da57fedf",
   "metadata": {},
   "outputs": [],
   "source": [
    "def process_data(i):\n",
    "    \n",
    "    data = Data(x=torch.tensor(x_data[i].reshape(-1,4).T, dtype=torch.float), y=torch.tensor(label[i], dtype=torch.float),\n",
    "                edge_index=torch.tensor(edge_index, dtype = torch.long).T)\n",
    "    return data"
   ]
  },
  {
   "cell_type": "code",
   "execution_count": 11,
   "id": "4abcdeba",
   "metadata": {},
   "outputs": [],
   "source": [
    "class MPL(MessagePassing):\n",
    "    def __init__(self, in_channels, out_channels):\n",
    "        super(MPL, self).__init__(aggr='add')\n",
    "        self.mlp1 = torch.nn.Linear(in_channels*2, out_channels)\n",
    "        self.mlp2 = torch.nn.Linear(in_channels, out_channels)\n",
    "        self.mlp3 = torch.nn.Linear(2*out_channels, 1)\n",
    "        self.mlp4 = torch.nn.Linear(2*out_channels, 1)\n",
    "        self.mlp5 = torch.nn.Linear(in_channels,16)\n",
    "        self.mlp6 = torch.nn.Linear(out_channels,16)\n",
    "        self.mlp7 = torch.nn.Linear(16,1)\n",
    "\n",
    "    def forward(self, x, edge_index):\n",
    "#         edge_index, _ = add_self_loops(edge_index, num_nodes=x.size(0))\n",
    "        msg = self.propagate(edge_index, x=x)\n",
    "        x = F.relu(self.mlp2(x))\n",
    "        w1 = F.sigmoid(self.mlp3(torch.cat([x,msg], dim=1)))\n",
    "        w2 = F.sigmoid(self.mlp4(torch.cat([x,msg], dim=1)))\n",
    "        out = w1*msg + w2*x\n",
    "        \n",
    "        return out\n",
    "\n",
    "    def message(self, x_i, x_j, edge_index):\n",
    "        msg = F.relu(self.mlp1(torch.cat([x_i, x_j-x_i], dim=1)))\n",
    "        w1 = F.tanh(self.mlp5(x_i))\n",
    "        w2 = F.tanh(self.mlp6(msg))\n",
    "        w = self.mlp7(w1*w2)\n",
    "        w = softmax(w, edge_index[0])\n",
    "        return msg*w"
   ]
  },
  {
   "cell_type": "code",
   "execution_count": 12,
   "id": "9e4a25de",
   "metadata": {},
   "outputs": [],
   "source": [
    "class MPNN(torch.nn.Module):\n",
    "    def __init__(self):\n",
    "        super(MPNN, self).__init__()\n",
    "        \n",
    "        # GNN\n",
    "        self.conv1 = MPL(int(len(features)/4),128)\n",
    "        self.conv2 = MPL(128,64)\n",
    "        self.conv3 = MPL(64,64)\n",
    "        self.conv4 = MPL(64,64)\n",
    "        self.lin1 = torch.nn.Linear(128+128+128, 128) # gnn + cnn + fcnn\n",
    "        self.lin2 = torch.nn.Linear(128, 16)\n",
    "        self.lin3 = torch.nn.Linear(16, 16)\n",
    "        self.lin4 = torch.nn.Linear(16, 1)\n",
    "        self.lin5 = torch.nn.Linear(128+128+128, 128) # gnn + cnn + fcnn\n",
    "        self.lin6 = torch.nn.Linear(128, 16)\n",
    "        self.lin7 = torch.nn.Linear(16, 16)\n",
    "        self.lin8 = torch.nn.Linear(16, 1)\n",
    "        self.global_att_pool1 = gnn.GlobalAttention(torch.nn.Sequential(torch.nn.Linear(64, 1)))\n",
    "        self.global_att_pool2 = gnn.GlobalAttention(torch.nn.Sequential(torch.nn.Linear(64, 1)))\n",
    "        \n",
    "        # CNN\n",
    "        self.cnv1 = torch.nn.Conv2d(1, 64, (2,2), padding='same')\n",
    "        self.cnv2 = torch.nn.Conv2d(64, 128, (2,2), padding='same')\n",
    "        self.cnv3 = torch.nn.Conv2d(128, 256, (2,2), padding='same')\n",
    "        self.cnv4 = torch.nn.Conv2d(256, 256, (2,2), padding='same')\n",
    "        self.cnv5 = torch.nn.Conv2d(256, 128, (2,2), padding='same')\n",
    "        self.cnv6 = torch.nn.Conv2d(128, 128, (2,2), padding='same')\n",
    "        self.linr1 = torch.nn.Linear(7//2*4//2*128, 256)\n",
    "        self.drp1 = torch.nn.Dropout(0.5)\n",
    "        self.linr2 = torch.nn.Linear(256, 128)\n",
    "        \n",
    "        # FCNN\n",
    "        self.linr3 = torch.nn.Linear(len(features), 512)\n",
    "        self.linr4 = torch.nn.Linear(512, 256)\n",
    "        self.linr5 = torch.nn.Linear(256, 128)\n",
    "        self.linr6 = torch.nn.Linear(128, 128)\n",
    "        self.linr7 = torch.nn.Linear(128, 128)\n",
    "        \n",
    "        self.prnt = PrintSize()\n",
    "    def forward(self, data):\n",
    "        x_orig, edge_index, batch = data.x, data.edge_index, data.batch\n",
    "        x_orig2 = torch.reshape(x_orig,(-1,1,4,7))\n",
    "        x_orig3 = torch.reshape(x_orig,(-1,len(features)))\n",
    "        \n",
    "        # gnn\n",
    "#         x_orig = self.prnt(x_orig)\n",
    "        x = F.relu(self.conv1(x_orig, edge_index))\n",
    "        x = F.relu(self.conv2(x, edge_index))\n",
    "#         x = self.prnt(x) # 8, 64 -- 16, 64 when 4\n",
    "        x1 = self.global_att_pool1(x, batch)\n",
    "#         x1 = self.prnt(x1) # 2, 64 --- 4, 64 when 4\n",
    "        x = F.relu(self.conv3(x, edge_index))\n",
    "        x = F.relu(self.conv4(x, edge_index))\n",
    "        x2 = self.global_att_pool2(x, batch)\n",
    "        x_out = torch.squeeze(torch.cat([x1, x2], dim=-1))\n",
    "#         x_out = self.prnt(x_out) # 2, 128 -- 4, 128 when 4\n",
    "        \n",
    "        # cnn\n",
    "#         x_orig2 = self.prnt(x_orig2)\n",
    "        x = F.relu(self.cnv1(x_orig2))\n",
    "#         x = self.prnt(x)\n",
    "        x = F.max_pool2d(F.relu(self.cnv2(x)), (2,2))\n",
    "#         x = self.prnt(x)\n",
    "        x = F.relu(self.cnv3(x))\n",
    "        x = F.relu(self.cnv4(x))\n",
    "        x = F.relu(self.cnv5(x))\n",
    "        x = F.relu(self.cnv6(x))\n",
    "#         x = self.prnt(x)\n",
    "        x = torch.flatten(x, 1)\n",
    "#         x = self.prnt(x)\n",
    "        x = F.relu(self.linr1(x))\n",
    "        x = self.drp1(x)\n",
    "#         x = self.prnt(x)\n",
    "        x_out2 = torch.squeeze(F.relu(self.linr2(x)))\n",
    "#         x_out2 = self.prnt(x_out2)\n",
    "        \n",
    "        # fcnn\n",
    "#         x_orig3 = self.prnt(x_orig3)\n",
    "        x = F.relu(self.linr3(x_orig3))\n",
    "#         x = self.prnt(x)\n",
    "        x = F.relu(self.linr4(x))\n",
    "        x = F.relu(self.linr5(x))\n",
    "        x = F.relu(self.linr6(x))\n",
    "#         x = self.prnt(x)\n",
    "        x_out3 = F.relu(self.linr7(x))\n",
    "#         x_out3 = self.prnt(x_out3)\n",
    "        \n",
    "        # merge\n",
    "        x_out4 = torch.cat([x_out, x_out2, x_out3], dim=-1)\n",
    "#         x_out4 = torch.cat([x_out, x_out3], dim=-1)\n",
    "#         x_out4 = self.prnt(x_out4)\n",
    "    \n",
    "        x = F.relu(self.lin1(x_out4))\n",
    "        x = F.relu(self.lin2(x))\n",
    "        x = self.lin3(x)\n",
    "        xf1 = self.lin4(x).squeeze(-1)\n",
    "        x = F.relu(self.lin5(x_out4))\n",
    "        x = F.relu(self.lin6(x))\n",
    "        x = self.lin7(x)\n",
    "        xf2 = F.sigmoid(self.lin8(x).squeeze(-1))\n",
    "        \n",
    "        return xf1, xf2"
   ]
  },
  {
   "cell_type": "code",
   "execution_count": 13,
   "id": "896ddbfb",
   "metadata": {},
   "outputs": [],
   "source": [
    "class MyDataset(Dataset):\n",
    "    def __init__(self, indices=list(range(len(df))), transform=None):\n",
    "        self.transform = transform\n",
    "        self.indices = indices\n",
    "    \n",
    "    def __getitem__(self, idx):\n",
    "        return process_data(self.indices[idx])\n",
    "    \n",
    "    def __len__(self):\n",
    "        return len(self.indices)"
   ]
  },
  {
   "cell_type": "code",
   "execution_count": 14,
   "id": "cfce2b66",
   "metadata": {},
   "outputs": [],
   "source": [
    "class PrintSize(torch.nn.Module):\n",
    "    def __init__(self):\n",
    "        super(PrintSize, self).__init__()\n",
    "    \n",
    "    def forward(self, x):\n",
    "        print(x.shape)\n",
    "        return x"
   ]
  },
  {
   "cell_type": "code",
   "execution_count": 15,
   "id": "b503394f",
   "metadata": {},
   "outputs": [],
   "source": [
    "def multitask_mse(outputs, labels):\n",
    "    weights = torch.tensor(labels<80, dtype=torch.float).to(device)*labels + torch.tensor(labels>=80, dtype=torch.float).to(device)*torch.tensor(labels<160, dtype=torch.float).to(device)*labels*2.4 + torch.tensor(labels>=160, dtype=torch.float).to(device)*10\n",
    "    error = weights*(((outputs-labels)/labels)**2)\n",
    "    return torch.mean(error)"
   ]
  },
  {
   "cell_type": "code",
   "execution_count": 16,
   "id": "7e33ca72",
   "metadata": {},
   "outputs": [],
   "source": [
    "scale = 4e2\n",
    "mse2 = torch.nn.MSELoss()"
   ]
  },
  {
   "cell_type": "code",
   "execution_count": 17,
   "id": "07e03f57",
   "metadata": {},
   "outputs": [],
   "source": [
    "def train(prog_bar = True):\n",
    "    \n",
    "    train_losses, test_losses = list(), list()\n",
    "    min_test_loss = float('inf')\n",
    "    train_loader = DataLoader(MyDataset(indices=train_mask), batch_size=batch_size)\n",
    "    test_loader = DataLoader(MyDataset(indices=test_mask), batch_size=batch_size)\n",
    "    \n",
    "    for epoch in range(epochs):\n",
    "        train_loss = 0\n",
    "        test_loss = 0\n",
    "        if prog_bar:\n",
    "            pbar = tqdm(train_loader,position=0)\n",
    "        else:\n",
    "            pbar = train_loader\n",
    "            \n",
    "        # train\n",
    "        for data in pbar:\n",
    "            data = data.to(device)\n",
    "            optimizer.zero_grad()\n",
    "            outputs1, outputs2 = model(data)\n",
    "            labels = data.y\n",
    "            loss = multitask_mse(outputs1, data.y) + scale*mse2(outputs2, 1/data.y)\n",
    "            loss.backward()\n",
    "            optimizer.step()\n",
    "            if prog_bar:\n",
    "                pbar.set_description('pTLoss: '+str(loss.cpu().detach().numpy()))\n",
    "                train_loss += loss.cpu().detach().numpy()/len(train_loader)\n",
    "                \n",
    "        # test\n",
    "        for data in test_loader:\n",
    "            data = data.to(device)\n",
    "            optimizer.zero_grad()\n",
    "            outputs1, outputs2 = model(data)\n",
    "            labels = data.y\n",
    "            loss = multitask_mse(outputs1, data.y) + scale*mse2(outputs2, 1/data.y)\n",
    "            test_loss += loss.cpu().detach().numpy()/len(test_loader)\n",
    "        if test_loss<min_test_loss:\n",
    "            print('Min loss changed from '+str(min_test_loss)+' to '+str(test_loss))\n",
    "            min_test_loss = test_loss\n",
    "            torch.save(model.state_dict(), model_name)\n",
    "        train_losses.append(train_loss)\n",
    "        test_losses.append(test_loss)\n",
    "        if epoch > 10 and min(test_losses[-7:])>min_test_loss+1e-9:\n",
    "            break\n",
    "        lr_scheduler.step(test_loss)\n",
    "        print('Epoch: ', str(epoch+1)+'/'+str(epochs),'| Training pTLoss: ', train_loss, '| Testing pTLoss: ', test_loss)\n",
    "        \n",
    "        if not prog_bar:\n",
    "            plt.plot(train_losses, label=\"Train Loss\")\n",
    "            plt.plot(test_losses, label=\"Validation Loss\")\n",
    "            plt.xlabel(\"# Epoch\")\n",
    "            plt.ylabel(\"Loss\")\n",
    "            plt.legend(loc='upper right')\n",
    "            plt.show()\n",
    "    return train_losses, test_losses"
   ]
  },
  {
   "cell_type": "code",
   "execution_count": 18,
   "id": "bbbcd5dc",
   "metadata": {
    "scrolled": false
   },
   "outputs": [
    {
     "name": "stderr",
     "output_type": "stream",
     "text": [
      "pTLoss: 6.9627686: 100%|█████████████████████████████████████████████████████████████| 116/116 [02:45<00:00,  1.42s/it]\n",
      "  0%|                                                                                          | 0/116 [00:00<?, ?it/s]"
     ]
    },
    {
     "name": "stdout",
     "output_type": "stream",
     "text": [
      "Min loss changed from inf to 7.72758439491535\n",
      "Epoch:  1/50 | Training pTLoss:  50.5363441089104 | Testing pTLoss:  7.72758439491535\n"
     ]
    },
    {
     "name": "stderr",
     "output_type": "stream",
     "text": [
      "pTLoss: 2.663543: 100%|██████████████████████████████████████████████████████████████| 116/116 [02:44<00:00,  1.42s/it]\n",
      "  0%|                                                                                          | 0/116 [00:00<?, ?it/s]"
     ]
    },
    {
     "name": "stdout",
     "output_type": "stream",
     "text": [
      "Min loss changed from 7.72758439491535 to 3.351206705488007\n",
      "Epoch:  2/50 | Training pTLoss:  5.6107811866135435 | Testing pTLoss:  3.351206705488007\n"
     ]
    },
    {
     "name": "stderr",
     "output_type": "stream",
     "text": [
      "pTLoss: 2.573625: 100%|██████████████████████████████████████████████████████████████| 116/116 [02:44<00:00,  1.42s/it]\n",
      "  0%|                                                                                          | 0/116 [00:00<?, ?it/s]"
     ]
    },
    {
     "name": "stdout",
     "output_type": "stream",
     "text": [
      "Min loss changed from 3.351206705488007 to 2.909908294677735\n",
      "Epoch:  3/50 | Training pTLoss:  2.970772677454455 | Testing pTLoss:  2.909908294677735\n"
     ]
    },
    {
     "name": "stderr",
     "output_type": "stream",
     "text": [
      "pTLoss: 2.119666: 100%|██████████████████████████████████████████████████████████████| 116/116 [02:45<00:00,  1.42s/it]\n",
      "  0%|                                                                                          | 0/116 [00:00<?, ?it/s]"
     ]
    },
    {
     "name": "stdout",
     "output_type": "stream",
     "text": [
      "Min loss changed from 2.909908294677735 to 2.735231210445536\n",
      "Epoch:  4/50 | Training pTLoss:  2.7258221280985855 | Testing pTLoss:  2.735231210445536\n"
     ]
    },
    {
     "name": "stderr",
     "output_type": "stream",
     "text": [
      "pTLoss: 2.003899: 100%|██████████████████████████████████████████████████████████████| 116/116 [02:44<00:00,  1.42s/it]\n",
      "  0%|                                                                                          | 0/116 [00:00<?, ?it/s]"
     ]
    },
    {
     "name": "stdout",
     "output_type": "stream",
     "text": [
      "Min loss changed from 2.735231210445536 to 2.616612927667026\n",
      "Epoch:  5/50 | Training pTLoss:  2.6331283799533183 | Testing pTLoss:  2.616612927667026\n"
     ]
    },
    {
     "name": "stderr",
     "output_type": "stream",
     "text": [
      "pTLoss: 2.0321302: 100%|█████████████████████████████████████████████████████████████| 116/116 [02:46<00:00,  1.44s/it]\n",
      "  0%|                                                                                          | 0/116 [00:00<?, ?it/s]"
     ]
    },
    {
     "name": "stdout",
     "output_type": "stream",
     "text": [
      "Min loss changed from 2.616612927667026 to 2.5311119474213695\n",
      "Epoch:  6/50 | Training pTLoss:  2.602293853102059 | Testing pTLoss:  2.5311119474213695\n"
     ]
    },
    {
     "name": "stderr",
     "output_type": "stream",
     "text": [
      "pTLoss: 1.9425633: 100%|█████████████████████████████████████████████████████████████| 116/116 [02:45<00:00,  1.42s/it]\n",
      "  0%|                                                                                          | 0/116 [00:00<?, ?it/s]"
     ]
    },
    {
     "name": "stdout",
     "output_type": "stream",
     "text": [
      "Min loss changed from 2.5311119474213695 to 2.5024129933324355\n",
      "Epoch:  7/50 | Training pTLoss:  2.539470393082191 | Testing pTLoss:  2.5024129933324355\n"
     ]
    },
    {
     "name": "stderr",
     "output_type": "stream",
     "text": [
      "pTLoss: 1.9700754: 100%|█████████████████████████████████████████████████████████████| 116/116 [02:45<00:00,  1.43s/it]\n",
      "  0%|                                                                                          | 0/116 [00:00<?, ?it/s]"
     ]
    },
    {
     "name": "stdout",
     "output_type": "stream",
     "text": [
      "Epoch:  8/50 | Training pTLoss:  2.543307259165007 | Testing pTLoss:  2.5259482613925273\n"
     ]
    },
    {
     "name": "stderr",
     "output_type": "stream",
     "text": [
      "pTLoss: 1.9161688: 100%|█████████████████████████████████████████████████████████████| 116/116 [02:45<00:00,  1.42s/it]\n",
      "  0%|                                                                                          | 0/116 [00:00<?, ?it/s]"
     ]
    },
    {
     "name": "stdout",
     "output_type": "stream",
     "text": [
      "Min loss changed from 2.5024129933324355 to 2.430330950638343\n",
      "Epoch:  9/50 | Training pTLoss:  2.4736942556397667 | Testing pTLoss:  2.430330950638343\n"
     ]
    },
    {
     "name": "stderr",
     "output_type": "stream",
     "text": [
      "pTLoss: 1.8309515: 100%|█████████████████████████████████████████████████████████████| 116/116 [02:43<00:00,  1.41s/it]\n",
      "  0%|                                                                                          | 0/116 [00:00<?, ?it/s]"
     ]
    },
    {
     "name": "stdout",
     "output_type": "stream",
     "text": [
      "Epoch:  10/50 | Training pTLoss:  2.470195279039185 | Testing pTLoss:  2.5756425693117344\n"
     ]
    },
    {
     "name": "stderr",
     "output_type": "stream",
     "text": [
      "pTLoss: 1.8665634: 100%|█████████████████████████████████████████████████████████████| 116/116 [02:26<00:00,  1.27s/it]\n",
      "  0%|                                                                                          | 0/116 [00:00<?, ?it/s]"
     ]
    },
    {
     "name": "stdout",
     "output_type": "stream",
     "text": [
      "Epoch    11: reducing learning rate of group 0 to 5.0000e-03.\n",
      "Epoch:  11/50 | Training pTLoss:  2.4651390571018736 | Testing pTLoss:  2.545907982464494\n"
     ]
    },
    {
     "name": "stderr",
     "output_type": "stream",
     "text": [
      "pTLoss: 1.6053554: 100%|█████████████████████████████████████████████████████████████| 116/116 [02:26<00:00,  1.26s/it]\n",
      "  0%|                                                                                          | 0/116 [00:00<?, ?it/s]"
     ]
    },
    {
     "name": "stdout",
     "output_type": "stream",
     "text": [
      "Min loss changed from 2.430330950638343 to 2.3378381811339275\n",
      "Epoch:  12/50 | Training pTLoss:  2.334323154441242 | Testing pTLoss:  2.3378381811339275\n"
     ]
    },
    {
     "name": "stderr",
     "output_type": "stream",
     "text": [
      "pTLoss: 1.5827177: 100%|█████████████████████████████████████████████████████████████| 116/116 [02:25<00:00,  1.25s/it]\n",
      "  0%|                                                                                          | 0/116 [00:00<?, ?it/s]"
     ]
    },
    {
     "name": "stdout",
     "output_type": "stream",
     "text": [
      "Epoch:  13/50 | Training pTLoss:  2.3092566790251894 | Testing pTLoss:  2.344151784633768\n"
     ]
    },
    {
     "name": "stderr",
     "output_type": "stream",
     "text": [
      "pTLoss: 1.5518031: 100%|█████████████████████████████████████████████████████████████| 116/116 [02:25<00:00,  1.25s/it]\n",
      "  0%|                                                                                          | 0/116 [00:00<?, ?it/s]"
     ]
    },
    {
     "name": "stdout",
     "output_type": "stream",
     "text": [
      "Epoch    14: reducing learning rate of group 0 to 2.5000e-03.\n",
      "Epoch:  14/50 | Training pTLoss:  2.309264674268919 | Testing pTLoss:  2.3472920532884265\n"
     ]
    },
    {
     "name": "stderr",
     "output_type": "stream",
     "text": [
      "pTLoss: 1.5207171: 100%|█████████████████████████████████████████████████████████████| 116/116 [02:24<00:00,  1.25s/it]\n",
      "  0%|                                                                                          | 0/116 [00:00<?, ?it/s]"
     ]
    },
    {
     "name": "stdout",
     "output_type": "stream",
     "text": [
      "Min loss changed from 2.3378381811339275 to 2.27144509348376\n",
      "Epoch:  15/50 | Training pTLoss:  2.2511755484959175 | Testing pTLoss:  2.27144509348376\n"
     ]
    },
    {
     "name": "stderr",
     "output_type": "stream",
     "text": [
      "pTLoss: 1.5226848: 100%|█████████████████████████████████████████████████████████████| 116/116 [02:24<00:00,  1.25s/it]\n",
      "  0%|                                                                                          | 0/116 [00:00<?, ?it/s]"
     ]
    },
    {
     "name": "stdout",
     "output_type": "stream",
     "text": [
      "Min loss changed from 2.27144509348376 to 2.2707722104828933\n",
      "Epoch:  16/50 | Training pTLoss:  2.2455644761693883 | Testing pTLoss:  2.2707722104828933\n"
     ]
    },
    {
     "name": "stderr",
     "output_type": "stream",
     "text": [
      "pTLoss: 1.5183296: 100%|█████████████████████████████████████████████████████████████| 116/116 [02:24<00:00,  1.24s/it]\n",
      "  0%|                                                                                          | 0/116 [00:00<?, ?it/s]"
     ]
    },
    {
     "name": "stdout",
     "output_type": "stream",
     "text": [
      "Min loss changed from 2.2707722104828933 to 2.26464894722248\n",
      "Epoch:  17/50 | Training pTLoss:  2.244330479153272 | Testing pTLoss:  2.26464894722248\n"
     ]
    },
    {
     "name": "stderr",
     "output_type": "stream",
     "text": [
      "pTLoss: 1.5162477: 100%|█████████████████████████████████████████████████████████████| 116/116 [02:26<00:00,  1.26s/it]\n",
      "  0%|                                                                                          | 0/116 [00:00<?, ?it/s]"
     ]
    },
    {
     "name": "stdout",
     "output_type": "stream",
     "text": [
      "Epoch:  18/50 | Training pTLoss:  2.2379351340491196 | Testing pTLoss:  2.2707393991536104\n"
     ]
    },
    {
     "name": "stderr",
     "output_type": "stream",
     "text": [
      "pTLoss: 1.5239391: 100%|█████████████████████████████████████████████████████████████| 116/116 [02:26<00:00,  1.27s/it]\n",
      "  0%|                                                                                          | 0/116 [00:00<?, ?it/s]"
     ]
    },
    {
     "name": "stdout",
     "output_type": "stream",
     "text": [
      "Epoch    19: reducing learning rate of group 0 to 1.2500e-03.\n",
      "Epoch:  19/50 | Training pTLoss:  2.2320795028374114 | Testing pTLoss:  2.2784596887128115\n"
     ]
    },
    {
     "name": "stderr",
     "output_type": "stream",
     "text": [
      "pTLoss: 1.4729694: 100%|█████████████████████████████████████████████████████████████| 116/116 [19:13<00:00,  9.95s/it]\n",
      "  0%|                                                                                          | 0/116 [00:00<?, ?it/s]"
     ]
    },
    {
     "name": "stdout",
     "output_type": "stream",
     "text": [
      "Min loss changed from 2.26464894722248 to 2.22178341602457\n",
      "Epoch:  20/50 | Training pTLoss:  2.19232753227497 | Testing pTLoss:  2.22178341602457\n"
     ]
    },
    {
     "name": "stderr",
     "output_type": "stream",
     "text": [
      "pTLoss: 1.4649727: 100%|█████████████████████████████████████████████████████████████| 116/116 [02:25<00:00,  1.26s/it]\n",
      "  0%|                                                                                          | 0/116 [00:00<?, ?it/s]"
     ]
    },
    {
     "name": "stdout",
     "output_type": "stream",
     "text": [
      "Epoch:  21/50 | Training pTLoss:  2.182791051165811 | Testing pTLoss:  2.2233875455527468\n"
     ]
    },
    {
     "name": "stderr",
     "output_type": "stream",
     "text": [
      "pTLoss: 1.4533203: 100%|█████████████████████████████████████████████████████████████| 116/116 [02:28<00:00,  1.28s/it]\n",
      "  0%|                                                                                          | 0/116 [00:00<?, ?it/s]"
     ]
    },
    {
     "name": "stdout",
     "output_type": "stream",
     "text": [
      "Epoch    22: reducing learning rate of group 0 to 6.2500e-04.\n",
      "Epoch:  22/50 | Training pTLoss:  2.1804624569827107 | Testing pTLoss:  2.2255083774698194\n"
     ]
    },
    {
     "name": "stderr",
     "output_type": "stream",
     "text": [
      "pTLoss: 1.4328759: 100%|█████████████████████████████████████████████████████████████| 116/116 [02:27<00:00,  1.27s/it]\n",
      "  0%|                                                                                          | 0/116 [00:00<?, ?it/s]"
     ]
    },
    {
     "name": "stdout",
     "output_type": "stream",
     "text": [
      "Min loss changed from 2.22178341602457 to 2.206384107984346\n",
      "Epoch:  23/50 | Training pTLoss:  2.155024214037533 | Testing pTLoss:  2.206384107984346\n"
     ]
    },
    {
     "name": "stderr",
     "output_type": "stream",
     "text": [
      "pTLoss: 1.4295412: 100%|█████████████████████████████████████████████████████████████| 116/116 [02:25<00:00,  1.25s/it]\n",
      "  0%|                                                                                          | 0/116 [00:00<?, ?it/s]"
     ]
    },
    {
     "name": "stdout",
     "output_type": "stream",
     "text": [
      "Min loss changed from 2.206384107984346 to 2.204621882274233\n",
      "Epoch:  24/50 | Training pTLoss:  2.150489269659437 | Testing pTLoss:  2.204621882274233\n"
     ]
    },
    {
     "name": "stderr",
     "output_type": "stream",
     "text": [
      "pTLoss: 1.4347749: 100%|█████████████████████████████████████████████████████████████| 116/116 [02:24<00:00,  1.25s/it]\n",
      "  0%|                                                                                          | 0/116 [00:00<?, ?it/s]"
     ]
    },
    {
     "name": "stdout",
     "output_type": "stream",
     "text": [
      "Min loss changed from 2.204621882274233 to 2.20381079048946\n",
      "Epoch:  25/50 | Training pTLoss:  2.147950644123144 | Testing pTLoss:  2.20381079048946\n"
     ]
    },
    {
     "name": "stderr",
     "output_type": "stream",
     "text": [
      "pTLoss: 1.4341419: 100%|█████████████████████████████████████████████████████████████| 116/116 [02:24<00:00,  1.25s/it]\n",
      "  0%|                                                                                          | 0/116 [00:00<?, ?it/s]"
     ]
    },
    {
     "name": "stdout",
     "output_type": "stream",
     "text": [
      "Min loss changed from 2.20381079048946 to 2.2035169765867035\n",
      "Epoch:  26/50 | Training pTLoss:  2.1465260530340258 | Testing pTLoss:  2.2035169765867035\n"
     ]
    },
    {
     "name": "stderr",
     "output_type": "stream",
     "text": [
      "pTLoss: 1.4334648: 100%|█████████████████████████████████████████████████████████████| 116/116 [02:24<00:00,  1.25s/it]\n",
      "  0%|                                                                                          | 0/116 [00:00<?, ?it/s]"
     ]
    },
    {
     "name": "stdout",
     "output_type": "stream",
     "text": [
      "Min loss changed from 2.2035169765867035 to 2.202705827252618\n",
      "Epoch:  27/50 | Training pTLoss:  2.1446036007897593 | Testing pTLoss:  2.202705827252618\n"
     ]
    },
    {
     "name": "stderr",
     "output_type": "stream",
     "text": [
      "pTLoss: 1.4333787: 100%|█████████████████████████████████████████████████████████████| 116/116 [02:24<00:00,  1.25s/it]\n",
      "  0%|                                                                                          | 0/116 [00:00<?, ?it/s]"
     ]
    },
    {
     "name": "stdout",
     "output_type": "stream",
     "text": [
      "Min loss changed from 2.202705827252618 to 2.2001387908540924\n",
      "Epoch:  28/50 | Training pTLoss:  2.143259839764958 | Testing pTLoss:  2.2001387908540924\n"
     ]
    },
    {
     "name": "stderr",
     "output_type": "stream",
     "text": [
      "pTLoss: 1.4305502: 100%|█████████████████████████████████████████████████████████████| 116/116 [02:24<00:00,  1.25s/it]\n",
      "  0%|                                                                                          | 0/116 [00:00<?, ?it/s]"
     ]
    },
    {
     "name": "stdout",
     "output_type": "stream",
     "text": [
      "Min loss changed from 2.2001387908540924 to 2.1981578530936403\n",
      "Epoch:  29/50 | Training pTLoss:  2.141933810094307 | Testing pTLoss:  2.1981578530936403\n"
     ]
    },
    {
     "name": "stderr",
     "output_type": "stream",
     "text": [
      "pTLoss: 1.4249485: 100%|█████████████████████████████████████████████████████████████| 116/116 [02:24<00:00,  1.25s/it]\n",
      "  0%|                                                                                          | 0/116 [00:00<?, ?it/s]"
     ]
    },
    {
     "name": "stdout",
     "output_type": "stream",
     "text": [
      "Min loss changed from 2.1981578530936403 to 2.1973049311802306\n",
      "Epoch:  30/50 | Training pTLoss:  2.1403423373041472 | Testing pTLoss:  2.1973049311802306\n"
     ]
    },
    {
     "name": "stderr",
     "output_type": "stream",
     "text": [
      "pTLoss: 1.4209462: 100%|█████████████████████████████████████████████████████████████| 116/116 [02:24<00:00,  1.25s/it]\n",
      "  0%|                                                                                          | 0/116 [00:00<?, ?it/s]"
     ]
    },
    {
     "name": "stdout",
     "output_type": "stream",
     "text": [
      "Min loss changed from 2.1973049311802306 to 2.195169341975245\n",
      "Epoch:  31/50 | Training pTLoss:  2.138644286270799 | Testing pTLoss:  2.195169341975245\n"
     ]
    },
    {
     "name": "stderr",
     "output_type": "stream",
     "text": [
      "pTLoss: 1.4187738: 100%|█████████████████████████████████████████████████████████████| 116/116 [02:24<00:00,  1.25s/it]\n",
      "  0%|                                                                                          | 0/116 [00:00<?, ?it/s]"
     ]
    },
    {
     "name": "stdout",
     "output_type": "stream",
     "text": [
      "Epoch:  32/50 | Training pTLoss:  2.137718506928148 | Testing pTLoss:  2.1957420645088983\n"
     ]
    },
    {
     "name": "stderr",
     "output_type": "stream",
     "text": [
      "pTLoss: 1.4150698: 100%|█████████████████████████████████████████████████████████████| 116/116 [02:24<00:00,  1.25s/it]\n",
      "  0%|                                                                                          | 0/116 [00:00<?, ?it/s]"
     ]
    },
    {
     "name": "stdout",
     "output_type": "stream",
     "text": [
      "Epoch    33: reducing learning rate of group 0 to 3.1250e-04.\n",
      "Epoch:  33/50 | Training pTLoss:  2.135796540770037 | Testing pTLoss:  2.1953463061102507\n"
     ]
    },
    {
     "name": "stderr",
     "output_type": "stream",
     "text": [
      "pTLoss: 1.3999519: 100%|█████████████████████████████████████████████████████████████| 116/116 [02:24<00:00,  1.25s/it]\n",
      "  0%|                                                                                          | 0/116 [00:00<?, ?it/s]"
     ]
    },
    {
     "name": "stdout",
     "output_type": "stream",
     "text": [
      "Min loss changed from 2.195169341975245 to 2.190500193628772\n",
      "Epoch:  34/50 | Training pTLoss:  2.1226498371568217 | Testing pTLoss:  2.190500193628772\n"
     ]
    },
    {
     "name": "stderr",
     "output_type": "stream",
     "text": [
      "pTLoss: 1.3995686: 100%|█████████████████████████████████████████████████████████████| 116/116 [02:24<00:00,  1.25s/it]\n",
      "  0%|                                                                                          | 0/116 [00:00<?, ?it/s]"
     ]
    },
    {
     "name": "stdout",
     "output_type": "stream",
     "text": [
      "Min loss changed from 2.190500193628772 to 2.190086726484627\n",
      "Epoch:  35/50 | Training pTLoss:  2.1194440671082204 | Testing pTLoss:  2.190086726484627\n"
     ]
    },
    {
     "name": "stderr",
     "output_type": "stream",
     "text": [
      "pTLoss: 1.3981044: 100%|█████████████████████████████████████████████████████████████| 116/116 [02:24<00:00,  1.25s/it]\n",
      "  0%|                                                                                          | 0/116 [00:00<?, ?it/s]"
     ]
    },
    {
     "name": "stdout",
     "output_type": "stream",
     "text": [
      "Min loss changed from 2.190086726484627 to 2.1892501321332203\n",
      "Epoch:  36/50 | Training pTLoss:  2.1179984026941763 | Testing pTLoss:  2.1892501321332203\n"
     ]
    },
    {
     "name": "stderr",
     "output_type": "stream",
     "text": [
      "pTLoss: 1.398303: 100%|██████████████████████████████████████████████████████████████| 116/116 [02:24<00:00,  1.25s/it]\n",
      "  0%|                                                                                          | 0/116 [00:00<?, ?it/s]"
     ]
    },
    {
     "name": "stdout",
     "output_type": "stream",
     "text": [
      "Min loss changed from 2.1892501321332203 to 2.188765591588514\n",
      "Epoch:  37/50 | Training pTLoss:  2.1166319847106934 | Testing pTLoss:  2.188765591588514\n"
     ]
    },
    {
     "name": "stderr",
     "output_type": "stream",
     "text": [
      "pTLoss: 1.3979937: 100%|█████████████████████████████████████████████████████████████| 116/116 [02:24<00:00,  1.25s/it]\n",
      "  0%|                                                                                          | 0/116 [00:00<?, ?it/s]"
     ]
    },
    {
     "name": "stdout",
     "output_type": "stream",
     "text": [
      "Min loss changed from 2.188765591588514 to 2.1883605677506024\n",
      "Epoch:  38/50 | Training pTLoss:  2.115236100451699 | Testing pTLoss:  2.1883605677506024\n"
     ]
    },
    {
     "name": "stderr",
     "output_type": "stream",
     "text": [
      "pTLoss: 1.3970631: 100%|█████████████████████████████████████████████████████████████| 116/116 [02:24<00:00,  1.25s/it]\n",
      "  0%|                                                                                          | 0/116 [00:00<?, ?it/s]"
     ]
    },
    {
     "name": "stdout",
     "output_type": "stream",
     "text": [
      "Epoch:  39/50 | Training pTLoss:  2.1140734049780625 | Testing pTLoss:  2.1883748070947058\n"
     ]
    },
    {
     "name": "stderr",
     "output_type": "stream",
     "text": [
      "pTLoss: 1.3987236: 100%|█████████████████████████████████████████████████████████████| 116/116 [02:24<00:00,  1.25s/it]\n",
      "  0%|                                                                                          | 0/116 [00:00<?, ?it/s]"
     ]
    },
    {
     "name": "stdout",
     "output_type": "stream",
     "text": [
      "Epoch    40: reducing learning rate of group 0 to 1.5625e-04.\n",
      "Epoch:  40/50 | Training pTLoss:  2.1132217810071743 | Testing pTLoss:  2.1884007947198274\n"
     ]
    },
    {
     "name": "stderr",
     "output_type": "stream",
     "text": [
      "pTLoss: 1.3656559: 100%|█████████████████████████████████████████████████████████████| 116/116 [02:24<00:00,  1.25s/it]\n",
      "  0%|                                                                                          | 0/116 [00:00<?, ?it/s]"
     ]
    },
    {
     "name": "stdout",
     "output_type": "stream",
     "text": [
      "Min loss changed from 2.1883605677506024 to 2.18209958076477\n",
      "Epoch:  41/50 | Training pTLoss:  2.10272777080536 | Testing pTLoss:  2.18209958076477\n"
     ]
    },
    {
     "name": "stderr",
     "output_type": "stream",
     "text": [
      "pTLoss: 1.3650217: 100%|█████████████████████████████████████████████████████████████| 116/116 [02:24<00:00,  1.25s/it]\n",
      "  0%|                                                                                          | 0/116 [00:00<?, ?it/s]"
     ]
    },
    {
     "name": "stdout",
     "output_type": "stream",
     "text": [
      "Min loss changed from 2.18209958076477 to 2.181995728920246\n",
      "Epoch:  42/50 | Training pTLoss:  2.1011256174794553 | Testing pTLoss:  2.181995728920246\n"
     ]
    },
    {
     "name": "stderr",
     "output_type": "stream",
     "text": [
      "pTLoss: 1.3631268: 100%|█████████████████████████████████████████████████████████████| 116/116 [02:25<00:00,  1.25s/it]\n",
      "  0%|                                                                                          | 0/116 [00:00<?, ?it/s]"
     ]
    },
    {
     "name": "stdout",
     "output_type": "stream",
     "text": [
      "Min loss changed from 2.181995728920246 to 2.181959793485444\n",
      "Epoch    43: reducing learning rate of group 0 to 7.8125e-05.\n",
      "Epoch:  43/50 | Training pTLoss:  2.100156504532387 | Testing pTLoss:  2.181959793485444\n"
     ]
    },
    {
     "name": "stderr",
     "output_type": "stream",
     "text": [
      "pTLoss: 1.3543679: 100%|█████████████████████████████████████████████████████████████| 116/116 [02:24<00:00,  1.25s/it]\n",
      "  0%|                                                                                          | 0/116 [00:00<?, ?it/s]"
     ]
    },
    {
     "name": "stdout",
     "output_type": "stream",
     "text": [
      "Min loss changed from 2.181959793485444 to 2.1792766061322446\n",
      "Epoch:  44/50 | Training pTLoss:  2.094920044315273 | Testing pTLoss:  2.1792766061322446\n"
     ]
    },
    {
     "name": "stderr",
     "output_type": "stream",
     "text": [
      "pTLoss: 1.3529186: 100%|█████████████████████████████████████████████████████████████| 116/116 [02:24<00:00,  1.25s/it]\n",
      "  0%|                                                                                          | 0/116 [00:00<?, ?it/s]"
     ]
    },
    {
     "name": "stdout",
     "output_type": "stream",
     "text": [
      "Min loss changed from 2.1792766061322446 to 2.178966144035602\n",
      "Epoch:  45/50 | Training pTLoss:  2.0938793276918344 | Testing pTLoss:  2.178966144035602\n"
     ]
    },
    {
     "name": "stderr",
     "output_type": "stream",
     "text": [
      "pTLoss: 1.3520006: 100%|█████████████████████████████████████████████████████████████| 116/116 [02:24<00:00,  1.25s/it]\n",
      "  0%|                                                                                          | 0/116 [00:00<?, ?it/s]"
     ]
    },
    {
     "name": "stdout",
     "output_type": "stream",
     "text": [
      "Min loss changed from 2.178966144035602 to 2.1786235365374336\n",
      "Epoch:  46/50 | Training pTLoss:  2.0933012530721467 | Testing pTLoss:  2.1786235365374336\n"
     ]
    },
    {
     "name": "stderr",
     "output_type": "stream",
     "text": [
      "pTLoss: 1.3507674: 100%|█████████████████████████████████████████████████████████████| 116/116 [02:24<00:00,  1.25s/it]\n",
      "  0%|                                                                                          | 0/116 [00:00<?, ?it/s]"
     ]
    },
    {
     "name": "stdout",
     "output_type": "stream",
     "text": [
      "Min loss changed from 2.1786235365374336 to 2.1783448745464455\n",
      "Epoch:  47/50 | Training pTLoss:  2.092814757906157 | Testing pTLoss:  2.1783448745464455\n"
     ]
    },
    {
     "name": "stderr",
     "output_type": "stream",
     "text": [
      "pTLoss: 1.3502591: 100%|█████████████████████████████████████████████████████████████| 116/116 [02:24<00:00,  1.25s/it]\n",
      "  0%|                                                                                          | 0/116 [00:00<?, ?it/s]"
     ]
    },
    {
     "name": "stdout",
     "output_type": "stream",
     "text": [
      "Min loss changed from 2.1783448745464455 to 2.1780728060623695\n",
      "Epoch:  48/50 | Training pTLoss:  2.0923391025641873 | Testing pTLoss:  2.1780728060623695\n"
     ]
    },
    {
     "name": "stderr",
     "output_type": "stream",
     "text": [
      "pTLoss: 1.349073: 100%|██████████████████████████████████████████████████████████████| 116/116 [02:26<00:00,  1.27s/it]\n",
      "  0%|                                                                                          | 0/116 [00:00<?, ?it/s]"
     ]
    },
    {
     "name": "stdout",
     "output_type": "stream",
     "text": [
      "Min loss changed from 2.1780728060623695 to 2.1778334831369337\n",
      "Epoch:  49/50 | Training pTLoss:  2.091837727817996 | Testing pTLoss:  2.1778334831369337\n"
     ]
    },
    {
     "name": "stderr",
     "output_type": "stream",
     "text": [
      "pTLoss: 1.3480669: 100%|█████████████████████████████████████████████████████████████| 116/116 [02:28<00:00,  1.28s/it]\n"
     ]
    },
    {
     "name": "stdout",
     "output_type": "stream",
     "text": [
      "Min loss changed from 2.1778334831369337 to 2.1776351517644414\n",
      "Epoch:  50/50 | Training pTLoss:  2.0913270126129015 | Testing pTLoss:  2.1776351517644414\n"
     ]
    }
   ],
   "source": [
    "device = torch.device('cuda' if torch.cuda.is_available() else 'cpu')\n",
    "# device = torch.device('cpu')\n",
    "batch_size = 2**13\n",
    "epochs = 50\n",
    "model = MPNN().to(device)\n",
    "optimizer = torch.optim.Adam(model.parameters(), lr=0.01, weight_decay=5e-4)\n",
    "# optimizer = Ranger(model.parameters(), lr=0.00005, weight_decay=5e-4) # loss: ~21\n",
    "# optimizer = RangerLars(model.parameters(), lr=0.01, weight_decay=5e-4)\n",
    "# optimizer = torch.optim.Adam(model.parameters(), lr=0.002, weight_decay=5e-4)\n",
    "lr_scheduler = torch.optim.lr_scheduler.ReduceLROnPlateau(optimizer, verbose=True, patience=1, factor=0.5)\n",
    "\n",
    "model_name = 'GNN_v18_Merge_inv_' + str(inv) + '.pth'\n",
    "train_losses, test_losses = train(prog_bar=True)"
   ]
  },
  {
   "cell_type": "code",
   "execution_count": 21,
   "id": "329f60ba",
   "metadata": {},
   "outputs": [
    {
     "data": {
      "text/plain": [
       "<All keys matched successfully>"
      ]
     },
     "execution_count": 21,
     "metadata": {},
     "output_type": "execute_result"
    }
   ],
   "source": [
    "device = torch.device('cuda' if torch.cuda.is_available() else 'cpu')\n",
    "loaded_model = MPNN().to(device)\n",
    "rand_model = MPNN().to(device)\n",
    "loaded_model.load_state_dict(torch.load(model_name))"
   ]
  },
  {
   "cell_type": "code",
   "execution_count": 22,
   "id": "eea9f7d1",
   "metadata": {},
   "outputs": [
    {
     "name": "stderr",
     "output_type": "stream",
     "text": [
      "100%|██████████████████████████████████████████████████████████████████████████████████| 29/29 [00:16<00:00,  1.77it/s]"
     ]
    },
    {
     "name": "stdout",
     "output_type": "stream",
     "text": [
      "Test_loss: 2.177634165204804\n"
     ]
    },
    {
     "name": "stderr",
     "output_type": "stream",
     "text": [
      "\n"
     ]
    }
   ],
   "source": [
    "test_loader = DataLoader(MyDataset(indices=test_mask), batch_size=batch_size)\n",
    "# test\n",
    "test_los = 0\n",
    "preds = []\n",
    "preds2 = []\n",
    "for data in tqdm(test_loader,position=0):\n",
    "    data = data.to(device)\n",
    "    outputs1, outputs2 = model(data)\n",
    "    labels = data.y\n",
    "    loss = multitask_mse(outputs1, data.y) + scale*mse2(outputs2, 1/data.y)\n",
    "    preds.append(outputs1.cpu().detach())\n",
    "    preds2.append(outputs2.cpu().detach())\n",
    "    test_los += loss.cpu().detach().numpy()/len(test_loader)\n",
    "print('Test_loss: '+str(test_los))"
   ]
  },
  {
   "cell_type": "code",
   "execution_count": 23,
   "id": "9004777d",
   "metadata": {},
   "outputs": [
    {
     "name": "stdout",
     "output_type": "stream",
     "text": [
      "Files saved!\n"
     ]
    }
   ],
   "source": [
    "# save to csv\n",
    "pred_ls = [float(i) for p in preds for i in p]\n",
    "pred_ls2 = [float(i) for p in preds2 for i in p]\n",
    "df_pred = pd.DataFrame(pred_ls)\n",
    "df_pred2 = pd.DataFrame(pred_ls2)\n",
    "df_pred.to_csv('GNN_v18_Merge_inv_' + str(0) + '.csv')\n",
    "df_pred2.to_csv('GNN_v18_Merge_inv_' + str(1) + '.csv')\n",
    "print('Files saved!')"
   ]
  },
  {
   "cell_type": "code",
   "execution_count": null,
   "id": "4c8f99f8",
   "metadata": {},
   "outputs": [],
   "source": []
  },
  {
   "cell_type": "code",
   "execution_count": null,
   "id": "ff948fed",
   "metadata": {},
   "outputs": [],
   "source": []
  }
 ],
 "metadata": {
  "kernelspec": {
   "display_name": "Python 3",
   "language": "python",
   "name": "python3"
  },
  "language_info": {
   "codemirror_mode": {
    "name": "ipython",
    "version": 3
   },
   "file_extension": ".py",
   "mimetype": "text/x-python",
   "name": "python",
   "nbconvert_exporter": "python",
   "pygments_lexer": "ipython3",
   "version": "3.8.10"
  }
 },
 "nbformat": 4,
 "nbformat_minor": 5
}
